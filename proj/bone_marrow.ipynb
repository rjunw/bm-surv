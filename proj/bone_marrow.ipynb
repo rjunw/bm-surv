{
  "nbformat": 4,
  "nbformat_minor": 0,
  "metadata": {
    "colab": {
      "provenance": []
    },
    "kernelspec": {
      "name": "python3",
      "display_name": "Python 3"
    },
    "language_info": {
      "name": "python"
    },
    "accelerator": "GPU",
    "gpuClass": "standard"
  },
  "cells": [
    {
      "cell_type": "markdown",
      "source": [
        "# **BST260 Project**"
      ],
      "metadata": {
        "id": "v2AlkkpVul_g"
      }
    },
    {
      "cell_type": "code",
      "source": [
        "import numpy as np\n",
        "import pandas as pd\n",
        "import xgboost as xgb\n",
        "import matplotlib.pyplot as plt\n",
        "from sklearn.preprocessing import StandardScaler\n",
        "from sklearn.model_selection import train_test_split, GridSearchCV\n",
        "from sklearn.metrics import accuracy_score, f1_score, roc_curve, roc_auc_score\n",
        "from torch.utils.data import DataLoader, Dataset\n",
        "np.random.seed(42)"
      ],
      "metadata": {
        "id": "mu4UO79roJcW"
      },
      "execution_count": 58,
      "outputs": []
    },
    {
      "cell_type": "code",
      "execution_count": 59,
      "metadata": {
        "colab": {
          "base_uri": "https://localhost:8080/"
        },
        "id": "twTcqzSjncQO",
        "outputId": "54d4cfd5-adf1-4054-d345-b33d7ef71efe"
      },
      "outputs": [
        {
          "output_type": "stream",
          "name": "stdout",
          "text": [
            "[Errno 2] No such file or directory: 'drive/MyDrive/harvard/bst260/'\n",
            "/content/drive/MyDrive/harvard/bst260\n"
          ]
        }
      ],
      "source": [
        "cd drive/MyDrive/harvard/bst260/"
      ]
    },
    {
      "cell_type": "code",
      "source": [
        "dat = pd.read_csv('bone-marrow.csv')\n",
        "dat"
      ],
      "metadata": {
        "colab": {
          "base_uri": "https://localhost:8080/",
          "height": 488
        },
        "id": "McLyAWNtoNQL",
        "outputId": "43e2eb99-4483-4cb8-d738-eafe8f8aa1dd"
      },
      "execution_count": 60,
      "outputs": [
        {
          "output_type": "execute_result",
          "data": {
            "text/plain": [
              "     Recipientgender  Stemcellsource   Donorage  Donorage35  IIIV  \\\n",
              "0                  1               1  22.830137           0     1   \n",
              "1                  1               0  23.342466           0     1   \n",
              "2                  1               0  26.394521           0     1   \n",
              "3                  0               0  39.684932           1     1   \n",
              "4                  0               1  33.358904           0     0   \n",
              "..               ...             ...        ...         ...   ...   \n",
              "182                1               1  37.575342           1     1   \n",
              "183                0               1  22.895890           0     0   \n",
              "184                0               1  27.347945           0     1   \n",
              "185                1               1  27.780822           0     1   \n",
              "186                1               1  55.553425           1     1   \n",
              "\n",
              "     Gendermatch  DonorABO RecipientABO RecipientRh ABOmatch  ... extcGvHD  \\\n",
              "0              0         1            1           1        0  ...        1   \n",
              "1              0        -1           -1           1        0  ...        1   \n",
              "2              0        -1           -1           1        0  ...        1   \n",
              "3              0         1            2           1        1  ...        ?   \n",
              "4              0         1            2           0        1  ...        1   \n",
              "..           ...       ...          ...         ...      ...  ...      ...   \n",
              "182            0         1            1           0        0  ...        1   \n",
              "183            0         1            0           1        1  ...        1   \n",
              "184            0         1           -1           1        1  ...        1   \n",
              "185            0         1            0           1        1  ...        0   \n",
              "186            0         1            2           1        1  ...        1   \n",
              "\n",
              "    CD34kgx10d6   CD3dCD34 CD3dkgx10d8  Rbodymass  ANCrecovery  PLTrecovery  \\\n",
              "0          7.20    1.33876        5.38         35           19           51   \n",
              "1          4.50  11.078295        0.41       20.6           16           37   \n",
              "2          7.94   19.01323        0.42       23.4           23           20   \n",
              "3          4.25  29.481647        0.14         50           23           29   \n",
              "4         51.85   3.972255       13.05          9           14           14   \n",
              "..          ...        ...         ...        ...          ...          ...   \n",
              "182       11.08    2.52275        4.39         44           15           22   \n",
              "183        4.64   1.038858        4.47       44.5           12           30   \n",
              "184        7.73   1.635559        4.73         33           16           16   \n",
              "185       15.41    8.07777        1.91         24           13           14   \n",
              "186        9.91   0.948135       10.45         37           18           20   \n",
              "\n",
              "     time_to_aGvHD_III_IV  survival_time survival_status  \n",
              "0                      32            999               0  \n",
              "1                 1000000            163               1  \n",
              "2                 1000000            435               1  \n",
              "3                      19             53               1  \n",
              "4                 1000000           2043               0  \n",
              "..                    ...            ...             ...  \n",
              "182                    16            385               1  \n",
              "183               1000000            634               1  \n",
              "184               1000000           1895               0  \n",
              "185                    54            382               1  \n",
              "186               1000000           1109               0  \n",
              "\n",
              "[187 rows x 37 columns]"
            ],
            "text/html": [
              "\n",
              "  <div id=\"df-62515a4e-fe29-4ef1-b69c-4a119a524ee6\">\n",
              "    <div class=\"colab-df-container\">\n",
              "      <div>\n",
              "<style scoped>\n",
              "    .dataframe tbody tr th:only-of-type {\n",
              "        vertical-align: middle;\n",
              "    }\n",
              "\n",
              "    .dataframe tbody tr th {\n",
              "        vertical-align: top;\n",
              "    }\n",
              "\n",
              "    .dataframe thead th {\n",
              "        text-align: right;\n",
              "    }\n",
              "</style>\n",
              "<table border=\"1\" class=\"dataframe\">\n",
              "  <thead>\n",
              "    <tr style=\"text-align: right;\">\n",
              "      <th></th>\n",
              "      <th>Recipientgender</th>\n",
              "      <th>Stemcellsource</th>\n",
              "      <th>Donorage</th>\n",
              "      <th>Donorage35</th>\n",
              "      <th>IIIV</th>\n",
              "      <th>Gendermatch</th>\n",
              "      <th>DonorABO</th>\n",
              "      <th>RecipientABO</th>\n",
              "      <th>RecipientRh</th>\n",
              "      <th>ABOmatch</th>\n",
              "      <th>...</th>\n",
              "      <th>extcGvHD</th>\n",
              "      <th>CD34kgx10d6</th>\n",
              "      <th>CD3dCD34</th>\n",
              "      <th>CD3dkgx10d8</th>\n",
              "      <th>Rbodymass</th>\n",
              "      <th>ANCrecovery</th>\n",
              "      <th>PLTrecovery</th>\n",
              "      <th>time_to_aGvHD_III_IV</th>\n",
              "      <th>survival_time</th>\n",
              "      <th>survival_status</th>\n",
              "    </tr>\n",
              "  </thead>\n",
              "  <tbody>\n",
              "    <tr>\n",
              "      <th>0</th>\n",
              "      <td>1</td>\n",
              "      <td>1</td>\n",
              "      <td>22.830137</td>\n",
              "      <td>0</td>\n",
              "      <td>1</td>\n",
              "      <td>0</td>\n",
              "      <td>1</td>\n",
              "      <td>1</td>\n",
              "      <td>1</td>\n",
              "      <td>0</td>\n",
              "      <td>...</td>\n",
              "      <td>1</td>\n",
              "      <td>7.20</td>\n",
              "      <td>1.33876</td>\n",
              "      <td>5.38</td>\n",
              "      <td>35</td>\n",
              "      <td>19</td>\n",
              "      <td>51</td>\n",
              "      <td>32</td>\n",
              "      <td>999</td>\n",
              "      <td>0</td>\n",
              "    </tr>\n",
              "    <tr>\n",
              "      <th>1</th>\n",
              "      <td>1</td>\n",
              "      <td>0</td>\n",
              "      <td>23.342466</td>\n",
              "      <td>0</td>\n",
              "      <td>1</td>\n",
              "      <td>0</td>\n",
              "      <td>-1</td>\n",
              "      <td>-1</td>\n",
              "      <td>1</td>\n",
              "      <td>0</td>\n",
              "      <td>...</td>\n",
              "      <td>1</td>\n",
              "      <td>4.50</td>\n",
              "      <td>11.078295</td>\n",
              "      <td>0.41</td>\n",
              "      <td>20.6</td>\n",
              "      <td>16</td>\n",
              "      <td>37</td>\n",
              "      <td>1000000</td>\n",
              "      <td>163</td>\n",
              "      <td>1</td>\n",
              "    </tr>\n",
              "    <tr>\n",
              "      <th>2</th>\n",
              "      <td>1</td>\n",
              "      <td>0</td>\n",
              "      <td>26.394521</td>\n",
              "      <td>0</td>\n",
              "      <td>1</td>\n",
              "      <td>0</td>\n",
              "      <td>-1</td>\n",
              "      <td>-1</td>\n",
              "      <td>1</td>\n",
              "      <td>0</td>\n",
              "      <td>...</td>\n",
              "      <td>1</td>\n",
              "      <td>7.94</td>\n",
              "      <td>19.01323</td>\n",
              "      <td>0.42</td>\n",
              "      <td>23.4</td>\n",
              "      <td>23</td>\n",
              "      <td>20</td>\n",
              "      <td>1000000</td>\n",
              "      <td>435</td>\n",
              "      <td>1</td>\n",
              "    </tr>\n",
              "    <tr>\n",
              "      <th>3</th>\n",
              "      <td>0</td>\n",
              "      <td>0</td>\n",
              "      <td>39.684932</td>\n",
              "      <td>1</td>\n",
              "      <td>1</td>\n",
              "      <td>0</td>\n",
              "      <td>1</td>\n",
              "      <td>2</td>\n",
              "      <td>1</td>\n",
              "      <td>1</td>\n",
              "      <td>...</td>\n",
              "      <td>?</td>\n",
              "      <td>4.25</td>\n",
              "      <td>29.481647</td>\n",
              "      <td>0.14</td>\n",
              "      <td>50</td>\n",
              "      <td>23</td>\n",
              "      <td>29</td>\n",
              "      <td>19</td>\n",
              "      <td>53</td>\n",
              "      <td>1</td>\n",
              "    </tr>\n",
              "    <tr>\n",
              "      <th>4</th>\n",
              "      <td>0</td>\n",
              "      <td>1</td>\n",
              "      <td>33.358904</td>\n",
              "      <td>0</td>\n",
              "      <td>0</td>\n",
              "      <td>0</td>\n",
              "      <td>1</td>\n",
              "      <td>2</td>\n",
              "      <td>0</td>\n",
              "      <td>1</td>\n",
              "      <td>...</td>\n",
              "      <td>1</td>\n",
              "      <td>51.85</td>\n",
              "      <td>3.972255</td>\n",
              "      <td>13.05</td>\n",
              "      <td>9</td>\n",
              "      <td>14</td>\n",
              "      <td>14</td>\n",
              "      <td>1000000</td>\n",
              "      <td>2043</td>\n",
              "      <td>0</td>\n",
              "    </tr>\n",
              "    <tr>\n",
              "      <th>...</th>\n",
              "      <td>...</td>\n",
              "      <td>...</td>\n",
              "      <td>...</td>\n",
              "      <td>...</td>\n",
              "      <td>...</td>\n",
              "      <td>...</td>\n",
              "      <td>...</td>\n",
              "      <td>...</td>\n",
              "      <td>...</td>\n",
              "      <td>...</td>\n",
              "      <td>...</td>\n",
              "      <td>...</td>\n",
              "      <td>...</td>\n",
              "      <td>...</td>\n",
              "      <td>...</td>\n",
              "      <td>...</td>\n",
              "      <td>...</td>\n",
              "      <td>...</td>\n",
              "      <td>...</td>\n",
              "      <td>...</td>\n",
              "      <td>...</td>\n",
              "    </tr>\n",
              "    <tr>\n",
              "      <th>182</th>\n",
              "      <td>1</td>\n",
              "      <td>1</td>\n",
              "      <td>37.575342</td>\n",
              "      <td>1</td>\n",
              "      <td>1</td>\n",
              "      <td>0</td>\n",
              "      <td>1</td>\n",
              "      <td>1</td>\n",
              "      <td>0</td>\n",
              "      <td>0</td>\n",
              "      <td>...</td>\n",
              "      <td>1</td>\n",
              "      <td>11.08</td>\n",
              "      <td>2.52275</td>\n",
              "      <td>4.39</td>\n",
              "      <td>44</td>\n",
              "      <td>15</td>\n",
              "      <td>22</td>\n",
              "      <td>16</td>\n",
              "      <td>385</td>\n",
              "      <td>1</td>\n",
              "    </tr>\n",
              "    <tr>\n",
              "      <th>183</th>\n",
              "      <td>0</td>\n",
              "      <td>1</td>\n",
              "      <td>22.895890</td>\n",
              "      <td>0</td>\n",
              "      <td>0</td>\n",
              "      <td>0</td>\n",
              "      <td>1</td>\n",
              "      <td>0</td>\n",
              "      <td>1</td>\n",
              "      <td>1</td>\n",
              "      <td>...</td>\n",
              "      <td>1</td>\n",
              "      <td>4.64</td>\n",
              "      <td>1.038858</td>\n",
              "      <td>4.47</td>\n",
              "      <td>44.5</td>\n",
              "      <td>12</td>\n",
              "      <td>30</td>\n",
              "      <td>1000000</td>\n",
              "      <td>634</td>\n",
              "      <td>1</td>\n",
              "    </tr>\n",
              "    <tr>\n",
              "      <th>184</th>\n",
              "      <td>0</td>\n",
              "      <td>1</td>\n",
              "      <td>27.347945</td>\n",
              "      <td>0</td>\n",
              "      <td>1</td>\n",
              "      <td>0</td>\n",
              "      <td>1</td>\n",
              "      <td>-1</td>\n",
              "      <td>1</td>\n",
              "      <td>1</td>\n",
              "      <td>...</td>\n",
              "      <td>1</td>\n",
              "      <td>7.73</td>\n",
              "      <td>1.635559</td>\n",
              "      <td>4.73</td>\n",
              "      <td>33</td>\n",
              "      <td>16</td>\n",
              "      <td>16</td>\n",
              "      <td>1000000</td>\n",
              "      <td>1895</td>\n",
              "      <td>0</td>\n",
              "    </tr>\n",
              "    <tr>\n",
              "      <th>185</th>\n",
              "      <td>1</td>\n",
              "      <td>1</td>\n",
              "      <td>27.780822</td>\n",
              "      <td>0</td>\n",
              "      <td>1</td>\n",
              "      <td>0</td>\n",
              "      <td>1</td>\n",
              "      <td>0</td>\n",
              "      <td>1</td>\n",
              "      <td>1</td>\n",
              "      <td>...</td>\n",
              "      <td>0</td>\n",
              "      <td>15.41</td>\n",
              "      <td>8.07777</td>\n",
              "      <td>1.91</td>\n",
              "      <td>24</td>\n",
              "      <td>13</td>\n",
              "      <td>14</td>\n",
              "      <td>54</td>\n",
              "      <td>382</td>\n",
              "      <td>1</td>\n",
              "    </tr>\n",
              "    <tr>\n",
              "      <th>186</th>\n",
              "      <td>1</td>\n",
              "      <td>1</td>\n",
              "      <td>55.553425</td>\n",
              "      <td>1</td>\n",
              "      <td>1</td>\n",
              "      <td>0</td>\n",
              "      <td>1</td>\n",
              "      <td>2</td>\n",
              "      <td>1</td>\n",
              "      <td>1</td>\n",
              "      <td>...</td>\n",
              "      <td>1</td>\n",
              "      <td>9.91</td>\n",
              "      <td>0.948135</td>\n",
              "      <td>10.45</td>\n",
              "      <td>37</td>\n",
              "      <td>18</td>\n",
              "      <td>20</td>\n",
              "      <td>1000000</td>\n",
              "      <td>1109</td>\n",
              "      <td>0</td>\n",
              "    </tr>\n",
              "  </tbody>\n",
              "</table>\n",
              "<p>187 rows × 37 columns</p>\n",
              "</div>\n",
              "      <button class=\"colab-df-convert\" onclick=\"convertToInteractive('df-62515a4e-fe29-4ef1-b69c-4a119a524ee6')\"\n",
              "              title=\"Convert this dataframe to an interactive table.\"\n",
              "              style=\"display:none;\">\n",
              "        \n",
              "  <svg xmlns=\"http://www.w3.org/2000/svg\" height=\"24px\"viewBox=\"0 0 24 24\"\n",
              "       width=\"24px\">\n",
              "    <path d=\"M0 0h24v24H0V0z\" fill=\"none\"/>\n",
              "    <path d=\"M18.56 5.44l.94 2.06.94-2.06 2.06-.94-2.06-.94-.94-2.06-.94 2.06-2.06.94zm-11 1L8.5 8.5l.94-2.06 2.06-.94-2.06-.94L8.5 2.5l-.94 2.06-2.06.94zm10 10l.94 2.06.94-2.06 2.06-.94-2.06-.94-.94-2.06-.94 2.06-2.06.94z\"/><path d=\"M17.41 7.96l-1.37-1.37c-.4-.4-.92-.59-1.43-.59-.52 0-1.04.2-1.43.59L10.3 9.45l-7.72 7.72c-.78.78-.78 2.05 0 2.83L4 21.41c.39.39.9.59 1.41.59.51 0 1.02-.2 1.41-.59l7.78-7.78 2.81-2.81c.8-.78.8-2.07 0-2.86zM5.41 20L4 18.59l7.72-7.72 1.47 1.35L5.41 20z\"/>\n",
              "  </svg>\n",
              "      </button>\n",
              "      \n",
              "  <style>\n",
              "    .colab-df-container {\n",
              "      display:flex;\n",
              "      flex-wrap:wrap;\n",
              "      gap: 12px;\n",
              "    }\n",
              "\n",
              "    .colab-df-convert {\n",
              "      background-color: #E8F0FE;\n",
              "      border: none;\n",
              "      border-radius: 50%;\n",
              "      cursor: pointer;\n",
              "      display: none;\n",
              "      fill: #1967D2;\n",
              "      height: 32px;\n",
              "      padding: 0 0 0 0;\n",
              "      width: 32px;\n",
              "    }\n",
              "\n",
              "    .colab-df-convert:hover {\n",
              "      background-color: #E2EBFA;\n",
              "      box-shadow: 0px 1px 2px rgba(60, 64, 67, 0.3), 0px 1px 3px 1px rgba(60, 64, 67, 0.15);\n",
              "      fill: #174EA6;\n",
              "    }\n",
              "\n",
              "    [theme=dark] .colab-df-convert {\n",
              "      background-color: #3B4455;\n",
              "      fill: #D2E3FC;\n",
              "    }\n",
              "\n",
              "    [theme=dark] .colab-df-convert:hover {\n",
              "      background-color: #434B5C;\n",
              "      box-shadow: 0px 1px 3px 1px rgba(0, 0, 0, 0.15);\n",
              "      filter: drop-shadow(0px 1px 2px rgba(0, 0, 0, 0.3));\n",
              "      fill: #FFFFFF;\n",
              "    }\n",
              "  </style>\n",
              "\n",
              "      <script>\n",
              "        const buttonEl =\n",
              "          document.querySelector('#df-62515a4e-fe29-4ef1-b69c-4a119a524ee6 button.colab-df-convert');\n",
              "        buttonEl.style.display =\n",
              "          google.colab.kernel.accessAllowed ? 'block' : 'none';\n",
              "\n",
              "        async function convertToInteractive(key) {\n",
              "          const element = document.querySelector('#df-62515a4e-fe29-4ef1-b69c-4a119a524ee6');\n",
              "          const dataTable =\n",
              "            await google.colab.kernel.invokeFunction('convertToInteractive',\n",
              "                                                     [key], {});\n",
              "          if (!dataTable) return;\n",
              "\n",
              "          const docLinkHtml = 'Like what you see? Visit the ' +\n",
              "            '<a target=\"_blank\" href=https://colab.research.google.com/notebooks/data_table.ipynb>data table notebook</a>'\n",
              "            + ' to learn more about interactive tables.';\n",
              "          element.innerHTML = '';\n",
              "          dataTable['output_type'] = 'display_data';\n",
              "          await google.colab.output.renderOutput(dataTable, element);\n",
              "          const docLink = document.createElement('div');\n",
              "          docLink.innerHTML = docLinkHtml;\n",
              "          element.appendChild(docLink);\n",
              "        }\n",
              "      </script>\n",
              "    </div>\n",
              "  </div>\n",
              "  "
            ]
          },
          "metadata": {},
          "execution_count": 60
        }
      ]
    },
    {
      "cell_type": "code",
      "source": [
        "dat['survival_status'].sum()/dat.shape[0]"
      ],
      "metadata": {
        "colab": {
          "base_uri": "https://localhost:8080/"
        },
        "id": "LCPE8SjE92PX",
        "outputId": "d33f853a-6cfb-455f-f8ef-9f42aaa3d9a9"
      },
      "execution_count": 61,
      "outputs": [
        {
          "output_type": "execute_result",
          "data": {
            "text/plain": [
              "0.45454545454545453"
            ]
          },
          "metadata": {},
          "execution_count": 61
        }
      ]
    },
    {
      "cell_type": "markdown",
      "source": [
        "From above we can see that in terms of outcome status, our dataset is actually relatively balanced. And so, we may be able to proceed without sampling corrections."
      ],
      "metadata": {
        "id": "_0QltvPP9_5J"
      }
    },
    {
      "cell_type": "markdown",
      "source": [
        "### **Investigating Correlation Structure**"
      ],
      "metadata": {
        "id": "q34xHeiG388R"
      }
    },
    {
      "cell_type": "code",
      "source": [
        "import matplotlib.pyplot as plt\n",
        "import seaborn as sns"
      ],
      "metadata": {
        "id": "E0gvCdzJsEUl"
      },
      "execution_count": 62,
      "outputs": []
    },
    {
      "cell_type": "code",
      "source": [
        "plt.figure(figsize = (13, 10))\n",
        "sns.heatmap(dat.corr(), cmap = 'BrBG')"
      ],
      "metadata": {
        "colab": {
          "base_uri": "https://localhost:8080/",
          "height": 709
        },
        "id": "tYQ8jUkTsJh4",
        "outputId": "7a26430b-e6e7-459e-c7a7-7c95bdfe9d47"
      },
      "execution_count": 63,
      "outputs": [
        {
          "output_type": "execute_result",
          "data": {
            "text/plain": [
              "<matplotlib.axes._subplots.AxesSubplot at 0x7fe844b7a9d0>"
            ]
          },
          "metadata": {},
          "execution_count": 63
        },
        {
          "output_type": "display_data",
          "data": {
            "text/plain": [
              "<Figure size 936x720 with 2 Axes>"
            ],
            "image/png": "[encoded data removed]"
          },
          "metadata": {
            "needs_background": "light"
          }
        }
      ]
    },
    {
      "cell_type": "markdown",
      "source": [
        "Survival status seems to be correlated with Relapse, PLTrecovery. Survival time seems to not be very strongly correlated with any variables, although mildly correlated with Recipientage and Relapse. Overall, we don't have *a lot* of multicollinearity but we do have some, for example the *HLA* variables are highly correlated and the *Recipientage* variables are also highly correlated. Many of the other variables have a slight negative correlation. Overall, it might help to perform a PCA to help decorrelate some variables during our predictive modeling. \n",
        "\n",
        "We will remove *survival_time* and *survival_status* for those individual outcome models as they are extremely correlated with each other. This makes sense as if you survive long enough past follow-up then you will not count as a death outcome."
      ],
      "metadata": {
        "id": "D3DKxvYZsl7e"
      }
    },
    {
      "cell_type": "markdown",
      "source": [
        "### **Missing Data and Non-Numerics**\n",
        "\n",
        "Let's make sure the data is in numerical format."
      ],
      "metadata": {
        "id": "NMzgAPJ90qvr"
      }
    },
    {
      "cell_type": "code",
      "source": [
        "dat.apply(pd.to_numeric, errors='coerce').isnull().sum()\n"
      ],
      "metadata": {
        "colab": {
          "base_uri": "https://localhost:8080/"
        },
        "id": "yt2V36MC0sy4",
        "outputId": "9f8aaecc-d98a-4779-cd42-419baeafeddd"
      },
      "execution_count": 64,
      "outputs": [
        {
          "output_type": "execute_result",
          "data": {
            "text/plain": [
              "Recipientgender           0\n",
              "Stemcellsource            0\n",
              "Donorage                  0\n",
              "Donorage35                0\n",
              "IIIV                      0\n",
              "Gendermatch               0\n",
              "DonorABO                  0\n",
              "RecipientABO              1\n",
              "RecipientRh               2\n",
              "ABOmatch                  1\n",
              "CMVstatus                16\n",
              "DonorCMV                  2\n",
              "RecipientCMV             14\n",
              "Disease                 187\n",
              "Riskgroup                 0\n",
              "Txpostrelapse             0\n",
              "Diseasegroup              0\n",
              "HLAmatch                  0\n",
              "HLAmismatch               0\n",
              "Antigen                   1\n",
              "Alel                      1\n",
              "HLAgrI                    0\n",
              "Recipientage              0\n",
              "Recipientage10            0\n",
              "Recipientageint           0\n",
              "Relapse                   0\n",
              "aGvHDIIIIV                0\n",
              "extcGvHD                 31\n",
              "CD34kgx10d6               0\n",
              "CD3dCD34                  5\n",
              "CD3dkgx10d8               5\n",
              "Rbodymass                 2\n",
              "ANCrecovery               0\n",
              "PLTrecovery               0\n",
              "time_to_aGvHD_III_IV      0\n",
              "survival_time             0\n",
              "survival_status           0\n",
              "dtype: int64"
            ]
          },
          "metadata": {},
          "execution_count": 64
        }
      ]
    },
    {
      "cell_type": "markdown",
      "source": [
        "We see some non-numeric data!"
      ],
      "metadata": {
        "id": "mVb2QNBc3QHk"
      }
    },
    {
      "cell_type": "code",
      "source": [
        "set(dat['RecipientCMV'])"
      ],
      "metadata": {
        "colab": {
          "base_uri": "https://localhost:8080/"
        },
        "id": "3lkkuqj23Yxb",
        "outputId": "13f880c2-cb8a-4479-a72c-7a8dc377b1aa"
      },
      "execution_count": 65,
      "outputs": [
        {
          "output_type": "execute_result",
          "data": {
            "text/plain": [
              "{'0', '1', '?'}"
            ]
          },
          "metadata": {},
          "execution_count": 65
        }
      ]
    },
    {
      "cell_type": "code",
      "source": [
        "set(dat['RecipientRh'])"
      ],
      "metadata": {
        "colab": {
          "base_uri": "https://localhost:8080/"
        },
        "id": "AbNlhbPr3d46",
        "outputId": "a4874e77-10e0-4422-be02-97a3afe8e986"
      },
      "execution_count": 66,
      "outputs": [
        {
          "output_type": "execute_result",
          "data": {
            "text/plain": [
              "{'0', '1', '?'}"
            ]
          },
          "metadata": {},
          "execution_count": 66
        }
      ]
    },
    {
      "cell_type": "code",
      "source": [
        "set(dat['ABOmatch'])"
      ],
      "metadata": {
        "colab": {
          "base_uri": "https://localhost:8080/"
        },
        "id": "wRMxfP793hpS",
        "outputId": "ac97e776-4ed4-47d6-8512-d3acc793e7b9"
      },
      "execution_count": 67,
      "outputs": [
        {
          "output_type": "execute_result",
          "data": {
            "text/plain": [
              "{'0', '1', '?'}"
            ]
          },
          "metadata": {},
          "execution_count": 67
        }
      ]
    },
    {
      "cell_type": "code",
      "source": [
        "set(dat['CMVstatus'])"
      ],
      "metadata": {
        "colab": {
          "base_uri": "https://localhost:8080/"
        },
        "id": "sRi4XOwG3kT3",
        "outputId": "79801eb3-7e32-457e-e461-5db210b6a29d"
      },
      "execution_count": 68,
      "outputs": [
        {
          "output_type": "execute_result",
          "data": {
            "text/plain": [
              "{'0', '1', '2', '3', '?'}"
            ]
          },
          "metadata": {},
          "execution_count": 68
        }
      ]
    },
    {
      "cell_type": "code",
      "source": [
        "set(dat['DonorCMV'])"
      ],
      "metadata": {
        "colab": {
          "base_uri": "https://localhost:8080/"
        },
        "id": "5gaFt4AT3n8S",
        "outputId": "9ceced51-a94e-4a95-d199-a83ecab32cec"
      },
      "execution_count": 69,
      "outputs": [
        {
          "output_type": "execute_result",
          "data": {
            "text/plain": [
              "{'0', '1', '?'}"
            ]
          },
          "metadata": {},
          "execution_count": 69
        }
      ]
    },
    {
      "cell_type": "code",
      "source": [
        "set(dat['RecipientCMV'])"
      ],
      "metadata": {
        "colab": {
          "base_uri": "https://localhost:8080/"
        },
        "id": "8cC_Y_B23waU",
        "outputId": "0abc8e44-ca48-440d-8d3e-11fc8c986f52"
      },
      "execution_count": 70,
      "outputs": [
        {
          "output_type": "execute_result",
          "data": {
            "text/plain": [
              "{'0', '1', '?'}"
            ]
          },
          "metadata": {},
          "execution_count": 70
        }
      ]
    },
    {
      "cell_type": "code",
      "source": [
        "set(dat['Disease'])"
      ],
      "metadata": {
        "colab": {
          "base_uri": "https://localhost:8080/"
        },
        "id": "cmIc8r_E3zm6",
        "outputId": "d0d603ff-2e82-4c7a-a5f6-832f0b8e8e37"
      },
      "execution_count": 71,
      "outputs": [
        {
          "output_type": "execute_result",
          "data": {
            "text/plain": [
              "{'ALL', 'AML', 'chronic', 'lymphoma', 'nonmalignant'}"
            ]
          },
          "metadata": {},
          "execution_count": 71
        }
      ]
    },
    {
      "cell_type": "code",
      "source": [
        "set(dat['Antigen'])"
      ],
      "metadata": {
        "colab": {
          "base_uri": "https://localhost:8080/"
        },
        "id": "rKg9A70q38nj",
        "outputId": "ad3918f0-1edd-4f68-e691-4901804e73c4"
      },
      "execution_count": 72,
      "outputs": [
        {
          "output_type": "execute_result",
          "data": {
            "text/plain": [
              "{'-1', '0', '1', '2', '?'}"
            ]
          },
          "metadata": {},
          "execution_count": 72
        }
      ]
    },
    {
      "cell_type": "code",
      "source": [
        "set(dat['Alel'])"
      ],
      "metadata": {
        "colab": {
          "base_uri": "https://localhost:8080/"
        },
        "id": "C7xVzoXM4B5t",
        "outputId": "bd80f0c8-5b44-498d-b56e-0ae6785d214e"
      },
      "execution_count": 73,
      "outputs": [
        {
          "output_type": "execute_result",
          "data": {
            "text/plain": [
              "{'-1', '0', '1', '2', '3', '?'}"
            ]
          },
          "metadata": {},
          "execution_count": 73
        }
      ]
    },
    {
      "cell_type": "code",
      "source": [
        "set(dat['extcGvHD'])"
      ],
      "metadata": {
        "colab": {
          "base_uri": "https://localhost:8080/"
        },
        "id": "G988IZN24D6v",
        "outputId": "8a3ee54a-4fbb-47f1-f7d4-4cb0ca29201f"
      },
      "execution_count": 74,
      "outputs": [
        {
          "output_type": "execute_result",
          "data": {
            "text/plain": [
              "{'0', '1', '?'}"
            ]
          },
          "metadata": {},
          "execution_count": 74
        }
      ]
    },
    {
      "cell_type": "markdown",
      "source": [
        "We have a small proportion of missing data, so something we might want to try is comparing complete case analyses with an imputation technique like MICE."
      ],
      "metadata": {
        "id": "x26Z9flZ4P-u"
      }
    },
    {
      "cell_type": "code",
      "source": [
        "# first we should get numerical structure\n",
        "dat = pd.concat([\n",
        "    dat, \n",
        "    pd.get_dummies(dat['Disease'])\n",
        "    ], \n",
        "    axis = 1).drop(['Disease'], axis = 1)\n",
        "dat = dat.apply(pd.to_numeric, errors='coerce')\n",
        "dat"
      ],
      "metadata": {
        "colab": {
          "base_uri": "https://localhost:8080/",
          "height": 488
        },
        "id": "clhaLyr45Xzo",
        "outputId": "f42c3155-4dea-46ac-ed3d-dc69c1b88be8"
      },
      "execution_count": 75,
      "outputs": [
        {
          "output_type": "execute_result",
          "data": {
            "text/plain": [
              "     Recipientgender  Stemcellsource   Donorage  Donorage35  IIIV  \\\n",
              "0                  1               1  22.830137           0     1   \n",
              "1                  1               0  23.342466           0     1   \n",
              "2                  1               0  26.394521           0     1   \n",
              "3                  0               0  39.684932           1     1   \n",
              "4                  0               1  33.358904           0     0   \n",
              "..               ...             ...        ...         ...   ...   \n",
              "182                1               1  37.575342           1     1   \n",
              "183                0               1  22.895890           0     0   \n",
              "184                0               1  27.347945           0     1   \n",
              "185                1               1  27.780822           0     1   \n",
              "186                1               1  55.553425           1     1   \n",
              "\n",
              "     Gendermatch  DonorABO  RecipientABO  RecipientRh  ABOmatch  ...  \\\n",
              "0              0         1           1.0          1.0       0.0  ...   \n",
              "1              0        -1          -1.0          1.0       0.0  ...   \n",
              "2              0        -1          -1.0          1.0       0.0  ...   \n",
              "3              0         1           2.0          1.0       1.0  ...   \n",
              "4              0         1           2.0          0.0       1.0  ...   \n",
              "..           ...       ...           ...          ...       ...  ...   \n",
              "182            0         1           1.0          0.0       0.0  ...   \n",
              "183            0         1           0.0          1.0       1.0  ...   \n",
              "184            0         1          -1.0          1.0       1.0  ...   \n",
              "185            0         1           0.0          1.0       1.0  ...   \n",
              "186            0         1           2.0          1.0       1.0  ...   \n",
              "\n",
              "     ANCrecovery  PLTrecovery  time_to_aGvHD_III_IV  survival_time  \\\n",
              "0             19           51                    32            999   \n",
              "1             16           37               1000000            163   \n",
              "2             23           20               1000000            435   \n",
              "3             23           29                    19             53   \n",
              "4             14           14               1000000           2043   \n",
              "..           ...          ...                   ...            ...   \n",
              "182           15           22                    16            385   \n",
              "183           12           30               1000000            634   \n",
              "184           16           16               1000000           1895   \n",
              "185           13           14                    54            382   \n",
              "186           18           20               1000000           1109   \n",
              "\n",
              "     survival_status  ALL  AML  chronic  lymphoma  nonmalignant  \n",
              "0                  0    1    0        0         0             0  \n",
              "1                  1    1    0        0         0             0  \n",
              "2                  1    1    0        0         0             0  \n",
              "3                  1    0    1        0         0             0  \n",
              "4                  0    0    0        1         0             0  \n",
              "..               ...  ...  ...      ...       ...           ...  \n",
              "182                1    0    0        0         1             0  \n",
              "183                1    0    1        0         0             0  \n",
              "184                0    0    0        0         0             1  \n",
              "185                1    0    0        1         0             0  \n",
              "186                0    0    0        0         0             1  \n",
              "\n",
              "[187 rows x 41 columns]"
            ],
            "text/html": [
              "\n",
              "  <div id=\"df-ee5b8f48-18cb-4c7d-a5e6-0befdc25b83f\">\n",
              "    <div class=\"colab-df-container\">\n",
              "      <div>\n",
              "<style scoped>\n",
              "    .dataframe tbody tr th:only-of-type {\n",
              "        vertical-align: middle;\n",
              "    }\n",
              "\n",
              "    .dataframe tbody tr th {\n",
              "        vertical-align: top;\n",
              "    }\n",
              "\n",
              "    .dataframe thead th {\n",
              "        text-align: right;\n",
              "    }\n",
              "</style>\n",
              "<table border=\"1\" class=\"dataframe\">\n",
              "  <thead>\n",
              "    <tr style=\"text-align: right;\">\n",
              "      <th></th>\n",
              "      <th>Recipientgender</th>\n",
              "      <th>Stemcellsource</th>\n",
              "      <th>Donorage</th>\n",
              "      <th>Donorage35</th>\n",
              "      <th>IIIV</th>\n",
              "      <th>Gendermatch</th>\n",
              "      <th>DonorABO</th>\n",
              "      <th>RecipientABO</th>\n",
              "      <th>RecipientRh</th>\n",
              "      <th>ABOmatch</th>\n",
              "      <th>...</th>\n",
              "      <th>ANCrecovery</th>\n",
              "      <th>PLTrecovery</th>\n",
              "      <th>time_to_aGvHD_III_IV</th>\n",
              "      <th>survival_time</th>\n",
              "      <th>survival_status</th>\n",
              "      <th>ALL</th>\n",
              "      <th>AML</th>\n",
              "      <th>chronic</th>\n",
              "      <th>lymphoma</th>\n",
              "      <th>nonmalignant</th>\n",
              "    </tr>\n",
              "  </thead>\n",
              "  <tbody>\n",
              "    <tr>\n",
              "      <th>0</th>\n",
              "      <td>1</td>\n",
              "      <td>1</td>\n",
              "      <td>22.830137</td>\n",
              "      <td>0</td>\n",
              "      <td>1</td>\n",
              "      <td>0</td>\n",
              "      <td>1</td>\n",
              "      <td>1.0</td>\n",
              "      <td>1.0</td>\n",
              "      <td>0.0</td>\n",
              "      <td>...</td>\n",
              "      <td>19</td>\n",
              "      <td>51</td>\n",
              "      <td>32</td>\n",
              "      <td>999</td>\n",
              "      <td>0</td>\n",
              "      <td>1</td>\n",
              "      <td>0</td>\n",
              "      <td>0</td>\n",
              "      <td>0</td>\n",
              "      <td>0</td>\n",
              "    </tr>\n",
              "    <tr>\n",
              "      <th>1</th>\n",
              "      <td>1</td>\n",
              "      <td>0</td>\n",
              "      <td>23.342466</td>\n",
              "      <td>0</td>\n",
              "      <td>1</td>\n",
              "      <td>0</td>\n",
              "      <td>-1</td>\n",
              "      <td>-1.0</td>\n",
              "      <td>1.0</td>\n",
              "      <td>0.0</td>\n",
              "      <td>...</td>\n",
              "      <td>16</td>\n",
              "      <td>37</td>\n",
              "      <td>1000000</td>\n",
              "      <td>163</td>\n",
              "      <td>1</td>\n",
              "      <td>1</td>\n",
              "      <td>0</td>\n",
              "      <td>0</td>\n",
              "      <td>0</td>\n",
              "      <td>0</td>\n",
              "    </tr>\n",
              "    <tr>\n",
              "      <th>2</th>\n",
              "      <td>1</td>\n",
              "      <td>0</td>\n",
              "      <td>26.394521</td>\n",
              "      <td>0</td>\n",
              "      <td>1</td>\n",
              "      <td>0</td>\n",
              "      <td>-1</td>\n",
              "      <td>-1.0</td>\n",
              "      <td>1.0</td>\n",
              "      <td>0.0</td>\n",
              "      <td>...</td>\n",
              "      <td>23</td>\n",
              "      <td>20</td>\n",
              "      <td>1000000</td>\n",
              "      <td>435</td>\n",
              "      <td>1</td>\n",
              "      <td>1</td>\n",
              "      <td>0</td>\n",
              "      <td>0</td>\n",
              "      <td>0</td>\n",
              "      <td>0</td>\n",
              "    </tr>\n",
              "    <tr>\n",
              "      <th>3</th>\n",
              "      <td>0</td>\n",
              "      <td>0</td>\n",
              "      <td>39.684932</td>\n",
              "      <td>1</td>\n",
              "      <td>1</td>\n",
              "      <td>0</td>\n",
              "      <td>1</td>\n",
              "      <td>2.0</td>\n",
              "      <td>1.0</td>\n",
              "      <td>1.0</td>\n",
              "      <td>...</td>\n",
              "      <td>23</td>\n",
              "      <td>29</td>\n",
              "      <td>19</td>\n",
              "      <td>53</td>\n",
              "      <td>1</td>\n",
              "      <td>0</td>\n",
              "      <td>1</td>\n",
              "      <td>0</td>\n",
              "      <td>0</td>\n",
              "      <td>0</td>\n",
              "    </tr>\n",
              "    <tr>\n",
              "      <th>4</th>\n",
              "      <td>0</td>\n",
              "      <td>1</td>\n",
              "      <td>33.358904</td>\n",
              "      <td>0</td>\n",
              "      <td>0</td>\n",
              "      <td>0</td>\n",
              "      <td>1</td>\n",
              "      <td>2.0</td>\n",
              "      <td>0.0</td>\n",
              "      <td>1.0</td>\n",
              "      <td>...</td>\n",
              "      <td>14</td>\n",
              "      <td>14</td>\n",
              "      <td>1000000</td>\n",
              "      <td>2043</td>\n",
              "      <td>0</td>\n",
              "      <td>0</td>\n",
              "      <td>0</td>\n",
              "      <td>1</td>\n",
              "      <td>0</td>\n",
              "      <td>0</td>\n",
              "    </tr>\n",
              "    <tr>\n",
              "      <th>...</th>\n",
              "      <td>...</td>\n",
              "      <td>...</td>\n",
              "      <td>...</td>\n",
              "      <td>...</td>\n",
              "      <td>...</td>\n",
              "      <td>...</td>\n",
              "      <td>...</td>\n",
              "      <td>...</td>\n",
              "      <td>...</td>\n",
              "      <td>...</td>\n",
              "      <td>...</td>\n",
              "      <td>...</td>\n",
              "      <td>...</td>\n",
              "      <td>...</td>\n",
              "      <td>...</td>\n",
              "      <td>...</td>\n",
              "      <td>...</td>\n",
              "      <td>...</td>\n",
              "      <td>...</td>\n",
              "      <td>...</td>\n",
              "      <td>...</td>\n",
              "    </tr>\n",
              "    <tr>\n",
              "      <th>182</th>\n",
              "      <td>1</td>\n",
              "      <td>1</td>\n",
              "      <td>37.575342</td>\n",
              "      <td>1</td>\n",
              "      <td>1</td>\n",
              "      <td>0</td>\n",
              "      <td>1</td>\n",
              "      <td>1.0</td>\n",
              "      <td>0.0</td>\n",
              "      <td>0.0</td>\n",
              "      <td>...</td>\n",
              "      <td>15</td>\n",
              "      <td>22</td>\n",
              "      <td>16</td>\n",
              "      <td>385</td>\n",
              "      <td>1</td>\n",
              "      <td>0</td>\n",
              "      <td>0</td>\n",
              "      <td>0</td>\n",
              "      <td>1</td>\n",
              "      <td>0</td>\n",
              "    </tr>\n",
              "    <tr>\n",
              "      <th>183</th>\n",
              "      <td>0</td>\n",
              "      <td>1</td>\n",
              "      <td>22.895890</td>\n",
              "      <td>0</td>\n",
              "      <td>0</td>\n",
              "      <td>0</td>\n",
              "      <td>1</td>\n",
              "      <td>0.0</td>\n",
              "      <td>1.0</td>\n",
              "      <td>1.0</td>\n",
              "      <td>...</td>\n",
              "      <td>12</td>\n",
              "      <td>30</td>\n",
              "      <td>1000000</td>\n",
              "      <td>634</td>\n",
              "      <td>1</td>\n",
              "      <td>0</td>\n",
              "      <td>1</td>\n",
              "      <td>0</td>\n",
              "      <td>0</td>\n",
              "      <td>0</td>\n",
              "    </tr>\n",
              "    <tr>\n",
              "      <th>184</th>\n",
              "      <td>0</td>\n",
              "      <td>1</td>\n",
              "      <td>27.347945</td>\n",
              "      <td>0</td>\n",
              "      <td>1</td>\n",
              "      <td>0</td>\n",
              "      <td>1</td>\n",
              "      <td>-1.0</td>\n",
              "      <td>1.0</td>\n",
              "      <td>1.0</td>\n",
              "      <td>...</td>\n",
              "      <td>16</td>\n",
              "      <td>16</td>\n",
              "      <td>1000000</td>\n",
              "      <td>1895</td>\n",
              "      <td>0</td>\n",
              "      <td>0</td>\n",
              "      <td>0</td>\n",
              "      <td>0</td>\n",
              "      <td>0</td>\n",
              "      <td>1</td>\n",
              "    </tr>\n",
              "    <tr>\n",
              "      <th>185</th>\n",
              "      <td>1</td>\n",
              "      <td>1</td>\n",
              "      <td>27.780822</td>\n",
              "      <td>0</td>\n",
              "      <td>1</td>\n",
              "      <td>0</td>\n",
              "      <td>1</td>\n",
              "      <td>0.0</td>\n",
              "      <td>1.0</td>\n",
              "      <td>1.0</td>\n",
              "      <td>...</td>\n",
              "      <td>13</td>\n",
              "      <td>14</td>\n",
              "      <td>54</td>\n",
              "      <td>382</td>\n",
              "      <td>1</td>\n",
              "      <td>0</td>\n",
              "      <td>0</td>\n",
              "      <td>1</td>\n",
              "      <td>0</td>\n",
              "      <td>0</td>\n",
              "    </tr>\n",
              "    <tr>\n",
              "      <th>186</th>\n",
              "      <td>1</td>\n",
              "      <td>1</td>\n",
              "      <td>55.553425</td>\n",
              "      <td>1</td>\n",
              "      <td>1</td>\n",
              "      <td>0</td>\n",
              "      <td>1</td>\n",
              "      <td>2.0</td>\n",
              "      <td>1.0</td>\n",
              "      <td>1.0</td>\n",
              "      <td>...</td>\n",
              "      <td>18</td>\n",
              "      <td>20</td>\n",
              "      <td>1000000</td>\n",
              "      <td>1109</td>\n",
              "      <td>0</td>\n",
              "      <td>0</td>\n",
              "      <td>0</td>\n",
              "      <td>0</td>\n",
              "      <td>0</td>\n",
              "      <td>1</td>\n",
              "    </tr>\n",
              "  </tbody>\n",
              "</table>\n",
              "<p>187 rows × 41 columns</p>\n",
              "</div>\n",
              "      <button class=\"colab-df-convert\" onclick=\"convertToInteractive('df-ee5b8f48-18cb-4c7d-a5e6-0befdc25b83f')\"\n",
              "              title=\"Convert this dataframe to an interactive table.\"\n",
              "              style=\"display:none;\">\n",
              "        \n",
              "  <svg xmlns=\"http://www.w3.org/2000/svg\" height=\"24px\"viewBox=\"0 0 24 24\"\n",
              "       width=\"24px\">\n",
              "    <path d=\"M0 0h24v24H0V0z\" fill=\"none\"/>\n",
              "    <path d=\"M18.56 5.44l.94 2.06.94-2.06 2.06-.94-2.06-.94-.94-2.06-.94 2.06-2.06.94zm-11 1L8.5 8.5l.94-2.06 2.06-.94-2.06-.94L8.5 2.5l-.94 2.06-2.06.94zm10 10l.94 2.06.94-2.06 2.06-.94-2.06-.94-.94-2.06-.94 2.06-2.06.94z\"/><path d=\"M17.41 7.96l-1.37-1.37c-.4-.4-.92-.59-1.43-.59-.52 0-1.04.2-1.43.59L10.3 9.45l-7.72 7.72c-.78.78-.78 2.05 0 2.83L4 21.41c.39.39.9.59 1.41.59.51 0 1.02-.2 1.41-.59l7.78-7.78 2.81-2.81c.8-.78.8-2.07 0-2.86zM5.41 20L4 18.59l7.72-7.72 1.47 1.35L5.41 20z\"/>\n",
              "  </svg>\n",
              "      </button>\n",
              "      \n",
              "  <style>\n",
              "    .colab-df-container {\n",
              "      display:flex;\n",
              "      flex-wrap:wrap;\n",
              "      gap: 12px;\n",
              "    }\n",
              "\n",
              "    .colab-df-convert {\n",
              "      background-color: #E8F0FE;\n",
              "      border: none;\n",
              "      border-radius: 50%;\n",
              "      cursor: pointer;\n",
              "      display: none;\n",
              "      fill: #1967D2;\n",
              "      height: 32px;\n",
              "      padding: 0 0 0 0;\n",
              "      width: 32px;\n",
              "    }\n",
              "\n",
              "    .colab-df-convert:hover {\n",
              "      background-color: #E2EBFA;\n",
              "      box-shadow: 0px 1px 2px rgba(60, 64, 67, 0.3), 0px 1px 3px 1px rgba(60, 64, 67, 0.15);\n",
              "      fill: #174EA6;\n",
              "    }\n",
              "\n",
              "    [theme=dark] .colab-df-convert {\n",
              "      background-color: #3B4455;\n",
              "      fill: #D2E3FC;\n",
              "    }\n",
              "\n",
              "    [theme=dark] .colab-df-convert:hover {\n",
              "      background-color: #434B5C;\n",
              "      box-shadow: 0px 1px 3px 1px rgba(0, 0, 0, 0.15);\n",
              "      filter: drop-shadow(0px 1px 2px rgba(0, 0, 0, 0.3));\n",
              "      fill: #FFFFFF;\n",
              "    }\n",
              "  </style>\n",
              "\n",
              "      <script>\n",
              "        const buttonEl =\n",
              "          document.querySelector('#df-ee5b8f48-18cb-4c7d-a5e6-0befdc25b83f button.colab-df-convert');\n",
              "        buttonEl.style.display =\n",
              "          google.colab.kernel.accessAllowed ? 'block' : 'none';\n",
              "\n",
              "        async function convertToInteractive(key) {\n",
              "          const element = document.querySelector('#df-ee5b8f48-18cb-4c7d-a5e6-0befdc25b83f');\n",
              "          const dataTable =\n",
              "            await google.colab.kernel.invokeFunction('convertToInteractive',\n",
              "                                                     [key], {});\n",
              "          if (!dataTable) return;\n",
              "\n",
              "          const docLinkHtml = 'Like what you see? Visit the ' +\n",
              "            '<a target=\"_blank\" href=https://colab.research.google.com/notebooks/data_table.ipynb>data table notebook</a>'\n",
              "            + ' to learn more about interactive tables.';\n",
              "          element.innerHTML = '';\n",
              "          dataTable['output_type'] = 'display_data';\n",
              "          await google.colab.output.renderOutput(dataTable, element);\n",
              "          const docLink = document.createElement('div');\n",
              "          docLink.innerHTML = docLinkHtml;\n",
              "          element.appendChild(docLink);\n",
              "        }\n",
              "      </script>\n",
              "    </div>\n",
              "  </div>\n",
              "  "
            ]
          },
          "metadata": {},
          "execution_count": 75
        }
      ]
    },
    {
      "cell_type": "markdown",
      "source": [
        "## **Imputation**"
      ],
      "metadata": {
        "id": "biEunAp14cg3"
      }
    },
    {
      "cell_type": "code",
      "source": [
        "from sklearn.experimental import enable_iterative_imputer\n",
        "from sklearn.impute import SimpleImputer, IterativeImputer, KNNImputer\n",
        "\n",
        "X = dat.drop(['survival_time', 'survival_status'], axis = 1)\n",
        "\n",
        "\n",
        "Death = dat['survival_status']\n",
        "STime = dat['survival_time']\n",
        "\n",
        "mulpute = IterativeImputer(max_iter=10, random_state=0, verbose = 2).fit(X)\n",
        "X_mp = mulpute.transform(X)\n",
        "\n",
        "missing_idx = [x[1] for x in list(dat.unstack()[dat.isnull().unstack()].index)]\n",
        "X_cc = dat.drop(index=missing_idx)\n",
        "Death_cc = X_cc['survival_status']\n",
        "STime_cc = X_cc['survival_time']\n",
        "X_cc = X_cc.drop(['survival_time', 'survival_status'], axis = 1)"
      ],
      "metadata": {
        "colab": {
          "base_uri": "https://localhost:8080/"
        },
        "id": "ZZIdAXGz4cPI",
        "outputId": "590e59c3-e473-434b-8ea6-084bdd9ac2a0"
      },
      "execution_count": 76,
      "outputs": [
        {
          "output_type": "stream",
          "name": "stdout",
          "text": [
            "[IterativeImputer] Completing matrix with shape (187, 39)\n",
            "[IterativeImputer] Ending imputation round 1/10, elapsed time 0.12\n",
            "[IterativeImputer] Change: 143.5886936385968, scaled tolerance: 1000.0 \n",
            "[IterativeImputer] Early stopping criterion reached.\n",
            "[IterativeImputer] Completing matrix with shape (187, 39)\n",
            "[IterativeImputer] Ending imputation round 1/1, elapsed time 0.00\n"
          ]
        }
      ]
    },
    {
      "cell_type": "markdown",
      "source": [
        "First, we'll split an 80/20 train-test in order to work with both the MICE and complete case training set."
      ],
      "metadata": {
        "id": "VuRa8lWJzBwR"
      }
    },
    {
      "cell_type": "code",
      "source": [
        "trainX_mp, testX_mp, \\\n",
        "    trainDeath_mp, testDeath_mp, \\\n",
        "    trainSTime_mp, testSTime_mp = train_test_split(\n",
        "             X_mp, \n",
        "             Death, \n",
        "             STime,\n",
        "             test_size = 0.2\n",
        ")\n",
        "    \n",
        "trainX_cc, testX_cc, \\\n",
        "    trainDeath_cc, testDeath_cc, \\\n",
        "    trainSTime_cc, testSTime_cc = train_test_split(\n",
        "             X_cc, \n",
        "             Death_cc, \n",
        "             STime_cc,\n",
        "             test_size = 0.2\n",
        ")"
      ],
      "metadata": {
        "id": "aWnx9MmczBaS"
      },
      "execution_count": 77,
      "outputs": []
    },
    {
      "cell_type": "code",
      "source": [
        "p = trainX_mp.shape[1]\n",
        "\n",
        "print(f\"MICE Training shape: {trainX_mp.shape, trainDeath_mp.shape}\")\n",
        "print(f\"MICE Testing shape: {testX_mp.shape, testDeath_mp.shape}\")"
      ],
      "metadata": {
        "colab": {
          "base_uri": "https://localhost:8080/"
        },
        "id": "pXRfkvVR0DgN",
        "outputId": "4d4ff629-222a-4f39-c6a3-3adb079d1fdc"
      },
      "execution_count": 78,
      "outputs": [
        {
          "output_type": "stream",
          "name": "stdout",
          "text": [
            "MICE Training shape: ((149, 39), (149,))\n",
            "MICE Testing shape: ((38, 39), (38,))\n"
          ]
        }
      ]
    },
    {
      "cell_type": "markdown",
      "source": [
        "## **PCA**"
      ],
      "metadata": {
        "id": "8Alw68Scyyqz"
      }
    },
    {
      "cell_type": "markdown",
      "source": [
        "#### **For MICE**"
      ],
      "metadata": {
        "id": "uWMAbb6q7nud"
      }
    },
    {
      "cell_type": "code",
      "source": [
        "from sklearn.decomposition import PCA\n",
        "from sklearn.preprocessing import StandardScaler\n",
        "\n",
        "# 1. Standardize rows to training set\n",
        "stdizer = StandardScaler().fit(trainX_mp)\n",
        "trainX_std = stdizer.transform(trainX_mp) # trainX_std.sum(axis = 0) = 0 down columns\n",
        "testX_std = stdizer.transform(testX_mp) # standardize using trainX\n",
        "\n",
        "# 1. PCA\n",
        "pca = PCA(n_components = p).fit(trainX_std)\n",
        "trainX_pca = pca.transform(trainX_std)\n",
        "plt.scatter(range(p), pca.explained_variance_)\n",
        "plt.xlabel(\"PCs\")\n",
        "plt.ylabel(\"Explained Variance\")"
      ],
      "metadata": {
        "colab": {
          "base_uri": "https://localhost:8080/",
          "height": 297
        },
        "id": "Y0IzDjBAyzva",
        "outputId": "796f4658-d5a6-4fe8-e54a-8e8d48cf7240"
      },
      "execution_count": 79,
      "outputs": [
        {
          "output_type": "execute_result",
          "data": {
            "text/plain": [
              "Text(0, 0.5, 'Explained Variance')"
            ]
          },
          "metadata": {},
          "execution_count": 79
        },
        {
          "output_type": "display_data",
          "data": {
            "text/plain": [
              "<Figure size 432x288 with 1 Axes>"
            ],
            "image/png": "[encoded data removed]"
          },
          "metadata": {
            "needs_background": "light"
          }
        }
      ]
    },
    {
      "cell_type": "markdown",
      "source": [
        "#### **For Complete Cases**"
      ],
      "metadata": {
        "id": "oLAwdgqE7rYm"
      }
    },
    {
      "cell_type": "code",
      "source": [
        "from sklearn.decomposition import PCA\n",
        "from sklearn.preprocessing import StandardScaler\n",
        "\n",
        "# 1. Standardize rows to training set\n",
        "stdizer_cc = StandardScaler().fit(trainX_cc)\n",
        "trainX_stdcc = stdizer.transform(trainX_cc) # trainX_std.sum(axis = 0) = 0 down columns\n",
        "testX_stdcc = stdizer.transform(testX_cc) # standardize using trainX\n",
        "\n",
        "# 1. PCA\n",
        "pca_cc = PCA(n_components = p).fit(trainX_stdcc)\n",
        "trainX_pcacc = pca.transform(trainX_stdcc)\n",
        "plt.scatter(range(p), pca_cc.explained_variance_)\n",
        "plt.xlabel(\"PCs\")\n",
        "plt.ylabel(\"Explained Variance\")"
      ],
      "metadata": {
        "colab": {
          "base_uri": "https://localhost:8080/",
          "height": 391
        },
        "id": "jpb3Rzn07uC8",
        "outputId": "b9685268-c355-4e4f-a1a7-8c85a68d1d52"
      },
      "execution_count": 80,
      "outputs": [
        {
          "output_type": "stream",
          "name": "stderr",
          "text": [
            "/usr/local/lib/python3.8/dist-packages/sklearn/base.py:443: UserWarning: X has feature names, but StandardScaler was fitted without feature names\n",
            "  warnings.warn(\n",
            "/usr/local/lib/python3.8/dist-packages/sklearn/base.py:443: UserWarning: X has feature names, but StandardScaler was fitted without feature names\n",
            "  warnings.warn(\n"
          ]
        },
        {
          "output_type": "execute_result",
          "data": {
            "text/plain": [
              "Text(0, 0.5, 'Explained Variance')"
            ]
          },
          "metadata": {},
          "execution_count": 80
        },
        {
          "output_type": "display_data",
          "data": {
            "text/plain": [
              "<Figure size 432x288 with 1 Axes>"
            ],
            "image/png": "[encoded data removed]"
          },
          "metadata": {
            "needs_background": "light"
          }
        }
      ]
    },
    {
      "cell_type": "markdown",
      "source": [
        "In both cases, it might suffice to use $\\approx$ 30 PCs as predictors as this seems to be when the elbow occurs, that not much more variance is explained by the PCs. Furthermore, because we do not see a large amount of low explained variances, we will opt to use all features (non-transformed) in our prediction models."
      ],
      "metadata": {
        "id": "zjhqWk2273fW"
      }
    },
    {
      "cell_type": "markdown",
      "source": [
        "# **Predicting Survival Status**"
      ],
      "metadata": {
        "id": "kTbEZ8mx7Bg0"
      }
    },
    {
      "cell_type": "markdown",
      "source": [
        "### **An Initial Logistic Model**"
      ],
      "metadata": {
        "id": "XIJVGhePgXV-"
      }
    },
    {
      "cell_type": "markdown",
      "source": [
        "First, let's check whether imputation helps out prediction at all."
      ],
      "metadata": {
        "id": "fawQPwc19LEd"
      }
    },
    {
      "cell_type": "code",
      "source": [
        "from sklearn.linear_model import LogisticRegressionCV\n",
        "logreg_mp = LogisticRegressionCV(cv= 5, random_state = 0)\n",
        "logreg_mp.fit(trainX_mp, trainDeath_mp)\n",
        "y_pred_mp = logreg_mp.predict(testX_mp) "
      ],
      "metadata": {
        "id": "VvVrTtymgZv4"
      },
      "execution_count": 81,
      "outputs": []
    },
    {
      "cell_type": "code",
      "source": [
        "from sklearn.metrics import accuracy_score, f1_score, roc_auc_score, roc_curve, confusion_matrix\n",
        "print(f\"MICE F1 Score: {f1_score(y_pred_mp, testDeath_mp)}\")\n",
        "print(f\"MICE AUC Score: {roc_auc_score(y_pred_mp, testDeath_mp)}\")\n",
        "print(f\"MICE ACC Score: {accuracy_score(y_pred_mp, testDeath_mp)}\")\n",
        "print(f\"MICE Confusion Matrix:\\n {confusion_matrix(y_pred_mp, testDeath_mp, normalize = 'true')}\")\n",
        "tpr_mp, fpr_mp, threshold_mp = roc_curve(y_pred_mp, testDeath_mp)\n",
        "plt.plot(tpr_mp, fpr_mp)\n"
      ],
      "metadata": {
        "colab": {
          "base_uri": "https://localhost:8080/",
          "height": 394
        },
        "id": "aaJfb-dz9VU5",
        "outputId": "37a6430e-41a3-4e2c-cda9-553cc5315301"
      },
      "execution_count": 82,
      "outputs": [
        {
          "output_type": "stream",
          "name": "stdout",
          "text": [
            "MICE F1 Score: 0.38461538461538464\n",
            "MICE AUC Score: 0.5535714285714286\n",
            "MICE ACC Score: 0.5789473684210527\n",
            "MICE Confusion Matrix:\n",
            " [[0.60714286 0.39285714]\n",
            " [0.5        0.5       ]]\n"
          ]
        },
        {
          "output_type": "execute_result",
          "data": {
            "text/plain": [
              "[<matplotlib.lines.Line2D at 0x7fe844746370>]"
            ]
          },
          "metadata": {},
          "execution_count": 82
        },
        {
          "output_type": "display_data",
          "data": {
            "text/plain": [
              "<Figure size 432x288 with 1 Axes>"
            ],
            "image/png": "[encoded data removed]"
          },
          "metadata": {
            "needs_background": "light"
          }
        }
      ]
    },
    {
      "cell_type": "markdown",
      "source": [
        "Here we have relatively equal true negative and true positive rate. The auc of 0.69 is not great, however. How about the complete case analysis?"
      ],
      "metadata": {
        "id": "wfhHsDw8_v4m"
      }
    },
    {
      "cell_type": "code",
      "source": [
        "logreg_cc = LogisticRegressionCV(cv= 5, random_state = 0)\n",
        "logreg_cc.fit(trainX_cc, trainDeath_cc)\n",
        "y_pred_cc = logreg_mp.predict(testX_cc) "
      ],
      "metadata": {
        "colab": {
          "base_uri": "https://localhost:8080/"
        },
        "id": "vkU1k104_-H4",
        "outputId": "54c6dfbc-9614-4f78-b399-7887a557b87a"
      },
      "execution_count": 83,
      "outputs": [
        {
          "output_type": "stream",
          "name": "stderr",
          "text": [
            "/usr/local/lib/python3.8/dist-packages/sklearn/base.py:443: UserWarning: X has feature names, but LogisticRegressionCV was fitted without feature names\n",
            "  warnings.warn(\n"
          ]
        }
      ]
    },
    {
      "cell_type": "code",
      "source": [
        "print(f\"CC F1 Score: {f1_score(y_pred_cc, testDeath_cc)}\")\n",
        "print(f\"CC AUC Score: {roc_auc_score(y_pred_cc, testDeath_cc)}\")\n",
        "print(f\"CC ACC Score: {accuracy_score(y_pred_cc, testDeath_cc)}\")\n",
        "print(f\"CC Confusion Matrix:\\n {confusion_matrix(y_pred_cc, testDeath_cc, normalize = 'true')}\")\n",
        "\n",
        "plt.plot(tpr_mp, fpr_mp, label = 'MICE')\n",
        "\n",
        "tpr_cc, fpr_cc, threshold_cc = roc_curve(y_pred_cc, testDeath_cc)\n",
        "plt.plot(tpr_cc, fpr_cc, label = 'Complete Cases')\n",
        "plt.legend()\n"
      ],
      "metadata": {
        "colab": {
          "base_uri": "https://localhost:8080/",
          "height": 394
        },
        "id": "4CIg-y0WADOe",
        "outputId": "3b42d442-c405-4626-f8fc-d0473747cf4e"
      },
      "execution_count": 84,
      "outputs": [
        {
          "output_type": "stream",
          "name": "stdout",
          "text": [
            "CC F1 Score: 0.3\n",
            "CC AUC Score: 0.48701298701298695\n",
            "CC ACC Score: 0.5172413793103449\n",
            "CC Confusion Matrix:\n",
            " [[0.54545455 0.45454545]\n",
            " [0.57142857 0.42857143]]\n"
          ]
        },
        {
          "output_type": "execute_result",
          "data": {
            "text/plain": [
              "<matplotlib.legend.Legend at 0x7fe84472a190>"
            ]
          },
          "metadata": {},
          "execution_count": 84
        },
        {
          "output_type": "display_data",
          "data": {
            "text/plain": [
              "<Figure size 432x288 with 1 Axes>"
            ],
            "image/png": "[encoded data removed]"
          },
          "metadata": {
            "needs_background": "light"
          }
        }
      ]
    },
    {
      "cell_type": "markdown",
      "source": [
        "Here, we notice that the multiple imputed dataset is performing a bit better than the complete cases. For future modeling, we will just use the MICE imputed dataset. Overall, the logistic regression model only seems to get around 60% accuracy and 44.4% F1 suggesting potentially poor discriminative ability. We will next try using some non-parametric models like gradient-boosted classification trees in order to try and get a better predictive result. "
      ],
      "metadata": {
        "id": "uXWWtq3RA_hl"
      }
    },
    {
      "cell_type": "markdown",
      "source": [
        "### **Can we improve this with XGBoost?**"
      ],
      "metadata": {
        "id": "CEVhu22FgaCw"
      }
    },
    {
      "cell_type": "code",
      "source": [
        "# hyperparameter tuning\n",
        "params = {'n_estimators':[150, 250, 350], \n",
        "         'max_depth':[3, 6, 10],  # XGB complexity\n",
        "         'min_child_weight':[1, 6], # min sum of obs req in a child\n",
        "         'learning_rate':[0.2, 0.3], # step size shrinkage\n",
        "         'gamma':[1], # complexity penalty term\n",
        "         'subsample':[0.5, 1], # subsample for each tree\n",
        "         'objective':['binary:logistic']}\n",
        "\n",
        "xgb_gs = xgb.XGBClassifier(seed = 0, tree_method='gpu_hist')\n",
        "gs = GridSearchCV(xgb_gs, params, \n",
        "                  cv = 5, verbose = 3)\n",
        "gs.fit(trainX_mp, trainDeath_mp)"
      ],
      "metadata": {
        "id": "41fq1hH_oWF5"
      },
      "execution_count": null,
      "outputs": []
    },
    {
      "cell_type": "code",
      "source": [
        "gs.best_params_"
      ],
      "metadata": {
        "colab": {
          "base_uri": "https://localhost:8080/"
        },
        "id": "SwiVSuu5EAvq",
        "outputId": "f32ed88f-a32b-4bba-b84a-a8830176d1b8"
      },
      "execution_count": 86,
      "outputs": [
        {
          "output_type": "execute_result",
          "data": {
            "text/plain": [
              "{'gamma': 1,\n",
              " 'learning_rate': 0.2,\n",
              " 'max_depth': 3,\n",
              " 'min_child_weight': 1,\n",
              " 'n_estimators': 250,\n",
              " 'objective': 'binary:logistic',\n",
              " 'subsample': 1}"
            ]
          },
          "metadata": {},
          "execution_count": 86
        }
      ]
    },
    {
      "cell_type": "code",
      "source": [
        "best_params = {'gamma': 1,\n",
        " 'learning_rate': 0.2,\n",
        " 'max_depth': 3,\n",
        " 'min_child_weight': 1,\n",
        " 'n_estimators': 250,\n",
        " 'objective': 'binary:logistic',\n",
        " 'subsample': 1}\n",
        "\n",
        "xgb_c = xgb.XGBClassifier(**best_params, seed = 0, tree_method='gpu_hist')\n",
        "xgb_c.fit(trainX_mp, trainDeath_mp)\n",
        "y_pred = xgb_c.predict(testX_mp)"
      ],
      "metadata": {
        "id": "gWZ86SjYEbAt"
      },
      "execution_count": 87,
      "outputs": []
    },
    {
      "cell_type": "code",
      "source": [
        "print(f\"CC F1 Score: {f1_score(y_pred, testDeath_mp)}\")\n",
        "print(f\"CC AUC Score: {roc_auc_score(y_pred, testDeath_mp)}\")\n",
        "print(f\"CC ACC Score: {accuracy_score(y_pred, testDeath_mp)}\")\n",
        "print(f\"CC Confusion Matrix:\\n {confusion_matrix(y_pred, testDeath_mp, normalize = 'true')}\")\n",
        "\n",
        "tpr, fpr, threshold = roc_curve(y_pred, testDeath_mp)\n",
        "plt.plot(tpr, fpr, label = 'MICE GBCT')\n",
        "plt.plot(tpr_mp, fpr_mp, label = 'MICE LogReg')\n",
        "plt.plot(tpr_cc, fpr_cc, label = 'CC LogReg')\n",
        "plt.legend()"
      ],
      "metadata": {
        "colab": {
          "base_uri": "https://localhost:8080/",
          "height": 394
        },
        "id": "PNmM4ypnD_zA",
        "outputId": "8fcf7341-4c30-4ff5-eee7-5bb536b7c736"
      },
      "execution_count": 88,
      "outputs": [
        {
          "output_type": "stream",
          "name": "stdout",
          "text": [
            "CC F1 Score: 0.6875\n",
            "CC AUC Score: 0.7301136363636364\n",
            "CC ACC Score: 0.7368421052631579\n",
            "CC Confusion Matrix:\n",
            " [[0.77272727 0.22727273]\n",
            " [0.3125     0.6875    ]]\n"
          ]
        },
        {
          "output_type": "execute_result",
          "data": {
            "text/plain": [
              "<matplotlib.legend.Legend at 0x7fe8446a8760>"
            ]
          },
          "metadata": {},
          "execution_count": 88
        },
        {
          "output_type": "display_data",
          "data": {
            "text/plain": [
              "<Figure size 432x288 with 1 Axes>"
            ],
            "image/png": "[encoded data removed]"
          },
          "metadata": {
            "needs_background": "light"
          }
        }
      ]
    },
    {
      "cell_type": "markdown",
      "source": [
        "Although not the perfect classifier, notice that the gradient-boosted classification tree outperforms both logistic regression models by a large margin. Let's see what contributed to this predictive power using feature importance (XGBoost *Gain*)."
      ],
      "metadata": {
        "id": "y0EOiI_JFKzr"
      }
    },
    {
      "cell_type": "code",
      "source": [
        "xgb_c.get_booster().feature_names = list(X.columns)\n",
        "importance = xgb_c.get_booster().get_score(importance_type= 'gain')\n",
        "for key in importance:\n",
        "    importance[key] = [importance[key]]\n",
        "imp_df = pd.DataFrame(importance).T.reset_index()\n",
        "imp_df = imp_df.sort_values(0, ascending = False).head(n = 20)\n",
        "plt.barh(imp_df['index'][::-1], imp_df[0][::-1])\n",
        "plt.xlabel('XGBoost Gain')\n",
        "plt.ylabel('Feature')"
      ],
      "metadata": {
        "colab": {
          "base_uri": "https://localhost:8080/",
          "height": 297
        },
        "id": "wf8ShhHkFVRy",
        "outputId": "450a9f63-c5e5-4e24-b67a-7c174c7517e2"
      },
      "execution_count": 89,
      "outputs": [
        {
          "output_type": "execute_result",
          "data": {
            "text/plain": [
              "Text(0, 0.5, 'Feature')"
            ]
          },
          "metadata": {},
          "execution_count": 89
        },
        {
          "output_type": "display_data",
          "data": {
            "text/plain": [
              "<Figure size 432x288 with 1 Axes>"
            ],
            "image/png": "[encoded data removed]"
          },
          "metadata": {
            "needs_background": "light"
          }
        }
      ]
    },
    {
      "cell_type": "markdown",
      "source": [
        "Interesting, like we initially saw in our exploratory correlation plot, we get the most accuracy gain from the *Relapse* feature, indicating whether or not an individual gets a hematological disease *again*. This makes sense, as a disease reoccuring might suggest something faulty with the immune system, or that the disease may have overcome some resistence and so it may be more lethal. The second most important predictor was the development of *Extensive Chronic Graft vs. Host Disease*. Graft vs. Host disease occurs when a body rejects the transplant and so could cause health complications downstream from transplant. Furthermore, the third most important predictor, *Time until platelet recovery* also resulted in a large gain of accuracy. This makes sense as platelets are an important part of the immune system and so a longer period of time until full recovery would increase the change of death."
      ],
      "metadata": {
        "id": "_q-sOQ3bGvTP"
      }
    },
    {
      "cell_type": "markdown",
      "source": [
        "# **Modeling Survival Time**"
      ],
      "metadata": {
        "id": "YzYNxG-47Hkx"
      }
    },
    {
      "cell_type": "code",
      "source": [
        "!pip install scikit-survival"
      ],
      "metadata": {
        "colab": {
          "base_uri": "https://localhost:8080/"
        },
        "id": "DtNq9sK7Jx9J",
        "outputId": "70a173c1-d822-4fbb-fe3d-44a6f0895276"
      },
      "execution_count": 90,
      "outputs": [
        {
          "output_type": "stream",
          "name": "stdout",
          "text": [
            "Looking in indexes: https://pypi.org/simple, https://us-python.pkg.dev/colab-wheels/public/simple/\n",
            "Requirement already satisfied: scikit-survival in /usr/local/lib/python3.8/dist-packages (0.19.0.post1)\n",
            "Requirement already satisfied: osqp!=0.6.0,!=0.6.1 in /usr/local/lib/python3.8/dist-packages (from scikit-survival) (0.6.2.post0)\n",
            "Requirement already satisfied: pandas>=1.0.5 in /usr/local/lib/python3.8/dist-packages (from scikit-survival) (1.3.5)\n",
            "Requirement already satisfied: numexpr in /usr/local/lib/python3.8/dist-packages (from scikit-survival) (2.8.4)\n",
            "Requirement already satisfied: scipy>=1.3.2 in /usr/local/lib/python3.8/dist-packages (from scikit-survival) (1.7.3)\n",
            "Requirement already satisfied: joblib in /usr/local/lib/python3.8/dist-packages (from scikit-survival) (1.2.0)\n",
            "Requirement already satisfied: scikit-learn<1.2,>=1.1.2 in /usr/local/lib/python3.8/dist-packages (from scikit-survival) (1.1.3)\n",
            "Requirement already satisfied: numpy in /usr/local/lib/python3.8/dist-packages (from scikit-survival) (1.21.6)\n",
            "Requirement already satisfied: ecos in /usr/local/lib/python3.8/dist-packages (from scikit-survival) (2.0.10)\n",
            "Requirement already satisfied: qdldl in /usr/local/lib/python3.8/dist-packages (from osqp!=0.6.0,!=0.6.1->scikit-survival) (0.1.5.post2)\n",
            "Requirement already satisfied: python-dateutil>=2.7.3 in /usr/local/lib/python3.8/dist-packages (from pandas>=1.0.5->scikit-survival) (2.8.2)\n",
            "Requirement already satisfied: pytz>=2017.3 in /usr/local/lib/python3.8/dist-packages (from pandas>=1.0.5->scikit-survival) (2022.6)\n",
            "Requirement already satisfied: six>=1.5 in /usr/local/lib/python3.8/dist-packages (from python-dateutil>=2.7.3->pandas>=1.0.5->scikit-survival) (1.15.0)\n",
            "Requirement already satisfied: threadpoolctl>=2.0.0 in /usr/local/lib/python3.8/dist-packages (from scikit-learn<1.2,>=1.1.2->scikit-survival) (3.1.0)\n"
          ]
        }
      ]
    },
    {
      "cell_type": "code",
      "source": [
        "dat.columns"
      ],
      "metadata": {
        "colab": {
          "base_uri": "https://localhost:8080/"
        },
        "id": "jpF8UMw1RDwW",
        "outputId": "4397731c-a657-4922-d1ec-9cf819169d94"
      },
      "execution_count": 91,
      "outputs": [
        {
          "output_type": "execute_result",
          "data": {
            "text/plain": [
              "Index(['Recipientgender', 'Stemcellsource', 'Donorage', 'Donorage35', 'IIIV',\n",
              "       'Gendermatch', 'DonorABO', 'RecipientABO', 'RecipientRh', 'ABOmatch',\n",
              "       'CMVstatus', 'DonorCMV', 'RecipientCMV', 'Riskgroup', 'Txpostrelapse',\n",
              "       'Diseasegroup', 'HLAmatch', 'HLAmismatch', 'Antigen', 'Alel', 'HLAgrI',\n",
              "       'Recipientage', 'Recipientage10', 'Recipientageint', 'Relapse',\n",
              "       'aGvHDIIIIV', 'extcGvHD', 'CD34kgx10d6', 'CD3dCD34', 'CD3dkgx10d8',\n",
              "       'Rbodymass', 'ANCrecovery', 'PLTrecovery', 'time_to_aGvHD_III_IV',\n",
              "       'survival_time', 'survival_status', 'ALL', 'AML', 'chronic', 'lymphoma',\n",
              "       'nonmalignant'],\n",
              "      dtype='object')"
            ]
          },
          "metadata": {},
          "execution_count": 91
        }
      ]
    },
    {
      "cell_type": "code",
      "source": [
        "from sksurv.nonparametric import kaplan_meier_estimator\n",
        "\n",
        "# disease idx\n",
        "ALL_idx = dat.index[dat['ALL'] == 1].tolist()\n",
        "AML_idx = dat.index[dat['AML'] == 1].tolist()\n",
        "chronic_idx = dat.index[dat['chronic'] == 1].tolist()\n",
        "lymphoma_idx = dat.index[dat['lymphoma'] == 1].tolist()\n",
        "nonmalignant_idx = dat.index[dat['nonmalignant'] == 1].tolist()\n",
        "\n",
        "time, survival_prob = kaplan_meier_estimator(Death.astype(bool), STime)\n",
        "time_all, survival_prob_all = kaplan_meier_estimator(Death.astype(bool)[ALL_idx], STime[ALL_idx])\n",
        "time_aml, survival_prob_aml = kaplan_meier_estimator(Death.astype(bool)[AML_idx], STime[AML_idx])\n",
        "time_chr, survival_prob_chr = kaplan_meier_estimator(Death.astype(bool)[chronic_idx], STime[chronic_idx])\n",
        "time_lym, survival_prob_lym = kaplan_meier_estimator(Death.astype(bool)[lymphoma_idx], STime[lymphoma_idx])\n",
        "time_nm, survival_prob_nm = kaplan_meier_estimator(Death.astype(bool)[nonmalignant_idx], STime[nonmalignant_idx])\n",
        "plt.step(time, survival_prob, where=\"post\", label = 'Total')\n",
        "plt.step(time_all, survival_prob_all, where=\"post\", label = 'ALL')\n",
        "plt.step(time_aml, survival_prob_aml, where=\"post\", label = 'AML')\n",
        "plt.step(time_chr, survival_prob_chr, where=\"post\", label = 'Chronic')\n",
        "plt.step(time_lym, survival_prob_lym, where=\"post\", label = 'Lymphoma')\n",
        "plt.step(time_nm, survival_prob_nm, where=\"post\", label = 'Non-Malignant')\n",
        "plt.ylabel(\"est. probability of survival $\\hat{S}(t)$\")\n",
        "plt.xlabel(\"time $t$\")\n",
        "plt.title(\"Non-Parametric Kaplan-Meier Estimator\")\n",
        "plt.legend()"
      ],
      "metadata": {
        "colab": {
          "base_uri": "https://localhost:8080/",
          "height": 315
        },
        "id": "4hiynzopJoUQ",
        "outputId": "c8c296c5-585c-46b5-94ee-d8739b05a05e"
      },
      "execution_count": 92,
      "outputs": [
        {
          "output_type": "execute_result",
          "data": {
            "text/plain": [
              "<matplotlib.legend.Legend at 0x7fe84474e370>"
            ]
          },
          "metadata": {},
          "execution_count": 92
        },
        {
          "output_type": "display_data",
          "data": {
            "text/plain": [
              "<Figure size 432x288 with 1 Axes>"
            ],
            "image/png": "[encoded data removed]"
          },
          "metadata": {
            "needs_background": "light"
          }
        }
      ]
    },
    {
      "cell_type": "markdown",
      "source": [
        "From the above Kaplan-Meier estimator, we see that individuals witih non-malignant hematological disease has the best survival. On the otherhand, all individuals with lymphoma (lymph node cancer) ended up in death and deviate from the proportional hazards assumption. The remaining conditions did not differ from the trend of the entire survival curve. Even so, we will attempt to model the survival time using a regularized Cox Proportional Hazards with elasticnet regularization, hopefully relaxing a little bit of this assumption."
      ],
      "metadata": {
        "id": "nsLaD-zsTC5j"
      }
    },
    {
      "cell_type": "markdown",
      "source": [
        "### **Survival Analysis**"
      ],
      "metadata": {
        "id": "rgOODnDegcqs"
      }
    },
    {
      "cell_type": "code",
      "source": [
        "# https://scikit-survival.readthedocs.io/en/stable/user_guide/coxnet.html\n",
        "import warnings\n",
        "from sksurv.linear_model import CoxnetSurvivalAnalysis\n",
        "from sklearn.exceptions import FitFailedWarning\n",
        "from sklearn.pipeline import make_pipeline\n",
        "\n",
        "# make [(outcome, time), ...] dataset\n",
        "trainy_surv = np.array(list(zip(trainDeath_mp.astype(bool), trainSTime_mp)), \n",
        "                    dtype=[('Status', '?'), ('Survival_in_days', '<f8')])\n",
        "\n",
        "coxnet_pipe = make_pipeline(\n",
        "    StandardScaler(),\n",
        "    CoxnetSurvivalAnalysis(l1_ratio=0.9, # elasticnet mixing (l1_ratio*l1 + (1-l1_ratio)*l2)\n",
        "                           alpha_min_ratio=0.01, # min weighting of penalty\n",
        "                           max_iter=100, # optimization\n",
        "                           fit_baseline_model = True) # estimating baseline survival/cumhazard\n",
        ")\n",
        "warnings.simplefilter(\"ignore\", UserWarning)\n",
        "warnings.simplefilter(\"ignore\", FitFailedWarning)\n",
        "coxnet_pipe.fit(trainX_mp, trainy_surv) # searches for 100 alphas up to 1% of max\n",
        "\n",
        "# choose best alpha from estimated \n",
        "estimated_alphas = coxnet_pipe.named_steps[\"coxnetsurvivalanalysis\"].alphas_ \n",
        "gcv = GridSearchCV(\n",
        "    make_pipeline(StandardScaler(), CoxnetSurvivalAnalysis(l1_ratio=0.9, \n",
        "                                                           fit_baseline_model=True)),\n",
        "    param_grid={\"coxnetsurvivalanalysis__alphas\": [[v] for v in estimated_alphas]},\n",
        "    cv=5,\n",
        "    error_score=0.5,\n",
        "    n_jobs=1).fit(trainX_mp, trainy_surv)\n",
        "\n",
        "cv_results = pd.DataFrame(gcv.cv_results_)"
      ],
      "metadata": {
        "id": "nZ_ZZmPXpFm5"
      },
      "execution_count": 152,
      "outputs": []
    },
    {
      "cell_type": "code",
      "source": [
        "gcv.best_params_"
      ],
      "metadata": {
        "colab": {
          "base_uri": "https://localhost:8080/"
        },
        "id": "XP7ax3wXpmYZ",
        "outputId": "90e8f5b4-168d-492e-c244-c6ea22a73c35"
      },
      "execution_count": 153,
      "outputs": [
        {
          "output_type": "execute_result",
          "data": {
            "text/plain": [
              "{'coxnetsurvivalanalysis__alphas': [0.06523406814746949]}"
            ]
          },
          "metadata": {},
          "execution_count": 153
        }
      ]
    },
    {
      "cell_type": "code",
      "source": [
        "best_params = {'coxnetsurvivalanalysis__alphas': [0.06523406814746949]}\n",
        "cox = gcv.best_estimator_\n",
        "#dat_orig = pd.read_csv('bone-marrow.csv')\n",
        "#X_surv = trainX_mp.drop(['survival_status', 'survival_time'], axis = 1)\n",
        "\n",
        "cox.fit(trainX_mp, trainy_surv)"
      ],
      "metadata": {
        "colab": {
          "base_uri": "https://localhost:8080/",
          "height": 126
        },
        "id": "_fqp2eVkpw8p",
        "outputId": "3566d7a5-fd0c-4672-d371-cf4d0fbcd620"
      },
      "execution_count": 154,
      "outputs": [
        {
          "output_type": "execute_result",
          "data": {
            "text/plain": [
              "Pipeline(steps=[('standardscaler', StandardScaler()),\n",
              "                ('coxnetsurvivalanalysis',\n",
              "                 CoxnetSurvivalAnalysis(alphas=[0.06523406814746949],\n",
              "                                        fit_baseline_model=True,\n",
              "                                        l1_ratio=0.9))])"
            ],
            "text/html": [
              "<style>#sk-container-id-11 {color: black;background-color: white;}#sk-container-id-11 pre{padding: 0;}#sk-container-id-11 div.sk-toggleable {background-color: white;}#sk-container-id-11 label.sk-toggleable__label {cursor: pointer;display: block;width: 100%;margin-bottom: 0;padding: 0.3em;box-sizing: border-box;text-align: center;}#sk-container-id-11 label.sk-toggleable__label-arrow:before {content: \"▸\";float: left;margin-right: 0.25em;color: #696969;}#sk-container-id-11 label.sk-toggleable__label-arrow:hover:before {color: black;}#sk-container-id-11 div.sk-estimator:hover label.sk-toggleable__label-arrow:before {color: black;}#sk-container-id-11 div.sk-toggleable__content {max-height: 0;max-width: 0;overflow: hidden;text-align: left;background-color: #f0f8ff;}#sk-container-id-11 div.sk-toggleable__content pre {margin: 0.2em;color: black;border-radius: 0.25em;background-color: #f0f8ff;}#sk-container-id-11 input.sk-toggleable__control:checked~div.sk-toggleable__content {max-height: 200px;max-width: 100%;overflow: auto;}#sk-container-id-11 input.sk-toggleable__control:checked~label.sk-toggleable__label-arrow:before {content: \"▾\";}#sk-container-id-11 div.sk-estimator input.sk-toggleable__control:checked~label.sk-toggleable__label {background-color: #d4ebff;}#sk-container-id-11 div.sk-label input.sk-toggleable__control:checked~label.sk-toggleable__label {background-color: #d4ebff;}#sk-container-id-11 input.sk-hidden--visually {border: 0;clip: rect(1px 1px 1px 1px);clip: rect(1px, 1px, 1px, 1px);height: 1px;margin: -1px;overflow: hidden;padding: 0;position: absolute;width: 1px;}#sk-container-id-11 div.sk-estimator {font-family: monospace;background-color: #f0f8ff;border: 1px dotted black;border-radius: 0.25em;box-sizing: border-box;margin-bottom: 0.5em;}#sk-container-id-11 div.sk-estimator:hover {background-color: #d4ebff;}#sk-container-id-11 div.sk-parallel-item::after {content: \"\";width: 100%;border-bottom: 1px solid gray;flex-grow: 1;}#sk-container-id-11 div.sk-label:hover label.sk-toggleable__label {background-color: #d4ebff;}#sk-container-id-11 div.sk-serial::before {content: \"\";position: absolute;border-left: 1px solid gray;box-sizing: border-box;top: 0;bottom: 0;left: 50%;z-index: 0;}#sk-container-id-11 div.sk-serial {display: flex;flex-direction: column;align-items: center;background-color: white;padding-right: 0.2em;padding-left: 0.2em;position: relative;}#sk-container-id-11 div.sk-item {position: relative;z-index: 1;}#sk-container-id-11 div.sk-parallel {display: flex;align-items: stretch;justify-content: center;background-color: white;position: relative;}#sk-container-id-11 div.sk-item::before, #sk-container-id-11 div.sk-parallel-item::before {content: \"\";position: absolute;border-left: 1px solid gray;box-sizing: border-box;top: 0;bottom: 0;left: 50%;z-index: -1;}#sk-container-id-11 div.sk-parallel-item {display: flex;flex-direction: column;z-index: 1;position: relative;background-color: white;}#sk-container-id-11 div.sk-parallel-item:first-child::after {align-self: flex-end;width: 50%;}#sk-container-id-11 div.sk-parallel-item:last-child::after {align-self: flex-start;width: 50%;}#sk-container-id-11 div.sk-parallel-item:only-child::after {width: 0;}#sk-container-id-11 div.sk-dashed-wrapped {border: 1px dashed gray;margin: 0 0.4em 0.5em 0.4em;box-sizing: border-box;padding-bottom: 0.4em;background-color: white;}#sk-container-id-11 div.sk-label label {font-family: monospace;font-weight: bold;display: inline-block;line-height: 1.2em;}#sk-container-id-11 div.sk-label-container {text-align: center;}#sk-container-id-11 div.sk-container {/* jupyter's `normalize.less` sets `[hidden] { display: none; }` but bootstrap.min.css set `[hidden] { display: none !important; }` so we also need the `!important` here to be able to override the default hidden behavior on the sphinx rendered scikit-learn.org. See: https://github.com/scikit-learn/scikit-learn/issues/21755 */display: inline-block !important;position: relative;}#sk-container-id-11 div.sk-text-repr-fallback {display: none;}</style><div id=\"sk-container-id-11\" class=\"sk-top-container\"><div class=\"sk-text-repr-fallback\"><pre>Pipeline(steps=[(&#x27;standardscaler&#x27;, StandardScaler()),\n",
              "                (&#x27;coxnetsurvivalanalysis&#x27;,\n",
              "                 CoxnetSurvivalAnalysis(alphas=[0.06523406814746949],\n",
              "                                        fit_baseline_model=True,\n",
              "                                        l1_ratio=0.9))])</pre><b>In a Jupyter environment, please rerun this cell to show the HTML representation or trust the notebook. <br />On GitHub, the HTML representation is unable to render, please try loading this page with nbviewer.org.</b></div><div class=\"sk-container\" hidden><div class=\"sk-item sk-dashed-wrapped\"><div class=\"sk-label-container\"><div class=\"sk-label sk-toggleable\"><input class=\"sk-toggleable__control sk-hidden--visually\" id=\"sk-estimator-id-19\" type=\"checkbox\" ><label for=\"sk-estimator-id-19\" class=\"sk-toggleable__label sk-toggleable__label-arrow\">Pipeline</label><div class=\"sk-toggleable__content\"><pre>Pipeline(steps=[(&#x27;standardscaler&#x27;, StandardScaler()),\n",
              "                (&#x27;coxnetsurvivalanalysis&#x27;,\n",
              "                 CoxnetSurvivalAnalysis(alphas=[0.06523406814746949],\n",
              "                                        fit_baseline_model=True,\n",
              "                                        l1_ratio=0.9))])</pre></div></div></div><div class=\"sk-serial\"><div class=\"sk-item\"><div class=\"sk-estimator sk-toggleable\"><input class=\"sk-toggleable__control sk-hidden--visually\" id=\"sk-estimator-id-20\" type=\"checkbox\" ><label for=\"sk-estimator-id-20\" class=\"sk-toggleable__label sk-toggleable__label-arrow\">StandardScaler</label><div class=\"sk-toggleable__content\"><pre>StandardScaler()</pre></div></div></div><div class=\"sk-item\"><div class=\"sk-estimator sk-toggleable\"><input class=\"sk-toggleable__control sk-hidden--visually\" id=\"sk-estimator-id-21\" type=\"checkbox\" ><label for=\"sk-estimator-id-21\" class=\"sk-toggleable__label sk-toggleable__label-arrow\">CoxnetSurvivalAnalysis</label><div class=\"sk-toggleable__content\"><pre>CoxnetSurvivalAnalysis(alphas=[0.06523406814746949], fit_baseline_model=True,\n",
              "                       l1_ratio=0.9)</pre></div></div></div></div></div></div></div>"
            ]
          },
          "metadata": {},
          "execution_count": 154
        }
      ]
    },
    {
      "cell_type": "code",
      "source": [
        "from sksurv.ensemble import RandomSurvivalForest\n",
        "rsf = RandomSurvivalForest(n_estimators=1000,\n",
        "                           min_samples_split=10,\n",
        "                           min_samples_leaf=15,\n",
        "                           n_jobs=-1,\n",
        "                           random_state=0)\n",
        "rsf.fit(trainX_mp, trainy_surv)"
      ],
      "metadata": {
        "colab": {
          "base_uri": "https://localhost:8080/",
          "height": 92
        },
        "id": "3Jfr-_VClvbM",
        "outputId": "4abd2746-6cb4-43af-f870-c84d56145914"
      },
      "execution_count": 155,
      "outputs": [
        {
          "output_type": "execute_result",
          "data": {
            "text/plain": [
              "RandomSurvivalForest(min_samples_leaf=15, min_samples_split=10,\n",
              "                     n_estimators=1000, n_jobs=-1, random_state=0)"
            ],
            "text/html": [
              "<style>#sk-container-id-12 {color: black;background-color: white;}#sk-container-id-12 pre{padding: 0;}#sk-container-id-12 div.sk-toggleable {background-color: white;}#sk-container-id-12 label.sk-toggleable__label {cursor: pointer;display: block;width: 100%;margin-bottom: 0;padding: 0.3em;box-sizing: border-box;text-align: center;}#sk-container-id-12 label.sk-toggleable__label-arrow:before {content: \"▸\";float: left;margin-right: 0.25em;color: #696969;}#sk-container-id-12 label.sk-toggleable__label-arrow:hover:before {color: black;}#sk-container-id-12 div.sk-estimator:hover label.sk-toggleable__label-arrow:before {color: black;}#sk-container-id-12 div.sk-toggleable__content {max-height: 0;max-width: 0;overflow: hidden;text-align: left;background-color: #f0f8ff;}#sk-container-id-12 div.sk-toggleable__content pre {margin: 0.2em;color: black;border-radius: 0.25em;background-color: #f0f8ff;}#sk-container-id-12 input.sk-toggleable__control:checked~div.sk-toggleable__content {max-height: 200px;max-width: 100%;overflow: auto;}#sk-container-id-12 input.sk-toggleable__control:checked~label.sk-toggleable__label-arrow:before {content: \"▾\";}#sk-container-id-12 div.sk-estimator input.sk-toggleable__control:checked~label.sk-toggleable__label {background-color: #d4ebff;}#sk-container-id-12 div.sk-label input.sk-toggleable__control:checked~label.sk-toggleable__label {background-color: #d4ebff;}#sk-container-id-12 input.sk-hidden--visually {border: 0;clip: rect(1px 1px 1px 1px);clip: rect(1px, 1px, 1px, 1px);height: 1px;margin: -1px;overflow: hidden;padding: 0;position: absolute;width: 1px;}#sk-container-id-12 div.sk-estimator {font-family: monospace;background-color: #f0f8ff;border: 1px dotted black;border-radius: 0.25em;box-sizing: border-box;margin-bottom: 0.5em;}#sk-container-id-12 div.sk-estimator:hover {background-color: #d4ebff;}#sk-container-id-12 div.sk-parallel-item::after {content: \"\";width: 100%;border-bottom: 1px solid gray;flex-grow: 1;}#sk-container-id-12 div.sk-label:hover label.sk-toggleable__label {background-color: #d4ebff;}#sk-container-id-12 div.sk-serial::before {content: \"\";position: absolute;border-left: 1px solid gray;box-sizing: border-box;top: 0;bottom: 0;left: 50%;z-index: 0;}#sk-container-id-12 div.sk-serial {display: flex;flex-direction: column;align-items: center;background-color: white;padding-right: 0.2em;padding-left: 0.2em;position: relative;}#sk-container-id-12 div.sk-item {position: relative;z-index: 1;}#sk-container-id-12 div.sk-parallel {display: flex;align-items: stretch;justify-content: center;background-color: white;position: relative;}#sk-container-id-12 div.sk-item::before, #sk-container-id-12 div.sk-parallel-item::before {content: \"\";position: absolute;border-left: 1px solid gray;box-sizing: border-box;top: 0;bottom: 0;left: 50%;z-index: -1;}#sk-container-id-12 div.sk-parallel-item {display: flex;flex-direction: column;z-index: 1;position: relative;background-color: white;}#sk-container-id-12 div.sk-parallel-item:first-child::after {align-self: flex-end;width: 50%;}#sk-container-id-12 div.sk-parallel-item:last-child::after {align-self: flex-start;width: 50%;}#sk-container-id-12 div.sk-parallel-item:only-child::after {width: 0;}#sk-container-id-12 div.sk-dashed-wrapped {border: 1px dashed gray;margin: 0 0.4em 0.5em 0.4em;box-sizing: border-box;padding-bottom: 0.4em;background-color: white;}#sk-container-id-12 div.sk-label label {font-family: monospace;font-weight: bold;display: inline-block;line-height: 1.2em;}#sk-container-id-12 div.sk-label-container {text-align: center;}#sk-container-id-12 div.sk-container {/* jupyter's `normalize.less` sets `[hidden] { display: none; }` but bootstrap.min.css set `[hidden] { display: none !important; }` so we also need the `!important` here to be able to override the default hidden behavior on the sphinx rendered scikit-learn.org. See: https://github.com/scikit-learn/scikit-learn/issues/21755 */display: inline-block !important;position: relative;}#sk-container-id-12 div.sk-text-repr-fallback {display: none;}</style><div id=\"sk-container-id-12\" class=\"sk-top-container\"><div class=\"sk-text-repr-fallback\"><pre>RandomSurvivalForest(min_samples_leaf=15, min_samples_split=10,\n",
              "                     n_estimators=1000, n_jobs=-1, random_state=0)</pre><b>In a Jupyter environment, please rerun this cell to show the HTML representation or trust the notebook. <br />On GitHub, the HTML representation is unable to render, please try loading this page with nbviewer.org.</b></div><div class=\"sk-container\" hidden><div class=\"sk-item\"><div class=\"sk-estimator sk-toggleable\"><input class=\"sk-toggleable__control sk-hidden--visually\" id=\"sk-estimator-id-22\" type=\"checkbox\" checked><label for=\"sk-estimator-id-22\" class=\"sk-toggleable__label sk-toggleable__label-arrow\">RandomSurvivalForest</label><div class=\"sk-toggleable__content\"><pre>RandomSurvivalForest(min_samples_leaf=15, min_samples_split=10,\n",
              "                     n_estimators=1000, n_jobs=-1, random_state=0)</pre></div></div></div></div></div>"
            ]
          },
          "metadata": {},
          "execution_count": 155
        }
      ]
    },
    {
      "cell_type": "code",
      "source": [
        "from sksurv.metrics import (\n",
        "    concordance_index_censored,\n",
        "    concordance_index_ipcw,\n",
        "    cumulative_dynamic_auc,\n",
        "    integrated_brier_score,\n",
        ")\n",
        "from sksurv.functions import StepFunction\n",
        "\n",
        "testy_surv = np.array(list(zip(testDeath_mp.astype(bool), testSTime_mp)), \n",
        "                    dtype=[('Status', '?'), ('Survival_in_days', '<f8')])\n",
        "\n",
        "\n",
        "score_cindex = pd.Series(\n",
        "    [\n",
        "        cox.score(testX_mp, testy_surv),\n",
        "        rsf.score(testX_mp, testy_surv)\n",
        "    ],\n",
        "    index=[\"Cox\", \"RSF\"], name=\"c-index\",\n",
        ")\n",
        "score_cindex"
      ],
      "metadata": {
        "colab": {
          "base_uri": "https://localhost:8080/"
        },
        "id": "9Fa-r0x5jLfe",
        "outputId": "95f16736-f8cd-4b72-f65d-6ffdaa01d3ca"
      },
      "execution_count": 156,
      "outputs": [
        {
          "output_type": "execute_result",
          "data": {
            "text/plain": [
              "Cox    0.689507\n",
              "RSF    0.715203\n",
              "Name: c-index, dtype: float64"
            ]
          },
          "metadata": {},
          "execution_count": 156
        }
      ]
    },
    {
      "cell_type": "code",
      "source": [
        "testy_surv[0][0]"
      ],
      "metadata": {
        "colab": {
          "base_uri": "https://localhost:8080/"
        },
        "id": "tU1L87juswsc",
        "outputId": "a8bd16a8-d7f4-44d6-af25-631e1ced672b"
      },
      "execution_count": 163,
      "outputs": [
        {
          "output_type": "execute_result",
          "data": {
            "text/plain": [
              "array([( True,  382.), (False, 1397.), (False, 1958.), ( True,   15.),\n",
              "       (False, 1074.), (False, 3288.), ( True,  435.), ( True,  246.),\n",
              "       (False, 2153.), (False, 2373.), (False, 1741.), (False, 2118.),\n",
              "       ( True,  421.), (False,  676.), (False, 2926.), ( True,   58.),\n",
              "       (False, 1308.), (False, 1985.), ( True, 1018.), (False,  884.),\n",
              "       (False, 1781.), ( True,  236.), (False, 2800.), (False,  754.),\n",
              "       (False, 2105.), (False, 1895.), (False,  676.), ( True,   48.),\n",
              "       ( True,  182.), (False, 1692.), (False,  704.), ( True,   31.),\n",
              "       ( True,  102.), ( True,  224.), ( True,  306.), ( True,  321.),\n",
              "       ( True,   67.), (False, 2761.)],\n",
              "      dtype=[('Status', '?'), ('Survival_in_days', '<f8')])"
            ]
          },
          "metadata": {},
          "execution_count": 163
        }
      ]
    },
    {
      "cell_type": "code",
      "source": [
        "# predicted cox curves\n",
        "surv_cox = cox.predict_survival_function(testX_mp, return_array=True)\n",
        "\n",
        "a = 0\n",
        "b = 0\n",
        "for i, s in enumerate(surv_cox):\n",
        "    if testy_surv[i][0]:\n",
        "        c = 'blue'\n",
        "        label = 'Death'\n",
        "    else:\n",
        "        c = 'red'\n",
        "        label = 'Survive'\n",
        "    plt.step(cox[1].event_times_, s, where=\"post\", label=label, c = c)\n",
        "    if label == 'Death':\n",
        "        if b == 0:\n",
        "            plt.legend()\n",
        "            b += 1\n",
        "    if label == 'Survive':\n",
        "        if a == 0:\n",
        "            plt.legend()\n",
        "            a += 1\n",
        "plt.ylabel(\"Survival probability\")\n",
        "plt.xlabel(\"Time in days\")\n",
        "plt.title(\"Cox Predicted Survival Curves\")\n",
        "plt.grid(True)\n",
        "plt.show()\n",
        "\n",
        "# predicted rsf curves\n",
        "surv_rsf = rsf.predict_survival_function(testX_mp, return_array=True)\n",
        "a, b = 0, 0\n",
        "for i, s in enumerate(surv_rsf):\n",
        "    if testy_surv[i][0]:\n",
        "        c = 'blue'\n",
        "        label = 'Death'\n",
        "    else:\n",
        "        c = 'red'\n",
        "        label = 'Survive'\n",
        "    plt.step(rsf.event_times_, s, where=\"post\", label=label, c = c)\n",
        "    if label == 'Death':\n",
        "        if b == 0:\n",
        "            plt.legend()\n",
        "            b += 1\n",
        "    if label == 'Survive':\n",
        "        if a == 0:\n",
        "            plt.legend()\n",
        "            a += 1\n",
        "plt.ylabel(\"Survival probability\")\n",
        "plt.xlabel(\"Time in days\")\n",
        "plt.title(\"RSF Predicted Survival Curves\")\n",
        "plt.grid(True)\n",
        "plt.show()"
      ],
      "metadata": {
        "colab": {
          "base_uri": "https://localhost:8080/",
          "height": 573
        },
        "id": "Ww3XfFqNn6JB",
        "outputId": "5402e077-175b-4a6b-ae88-69b8e8dc87a0"
      },
      "execution_count": 173,
      "outputs": [
        {
          "output_type": "display_data",
          "data": {
            "text/plain": [
              "<Figure size 432x288 with 1 Axes>"
            ],
            "image/png": "[encoded data removed]"
          },
          "metadata": {
            "needs_background": "light"
          }
        },
        {
          "output_type": "display_data",
          "data": {
            "text/plain": [
              "<Figure size 432x288 with 1 Axes>"
            ],
            "image/png": "[encoded data removed]"
          },
          "metadata": {
            "needs_background": "light"
          }
        }
      ]
    },
    {
      "cell_type": "markdown",
      "source": [
        "The non-parametric random survival forest outperforms the Cox Proportional Hazards Regression model in terms of concordance index, a generalization of AUC for discriminative capability to determine which of a pair of individuals is at higher risk. By the curves you can see the tuned Cox model only models most of the curves well, but the rest are quickly being predicted to die.\n",
        "\n",
        "Further hyperparameter tuning on both models could further improve performance, however I would still expect the random survival forest to outperform simple due to it's performance in literature."
      ],
      "metadata": {
        "id": "NEdYFxqpmDFL"
      }
    },
    {
      "cell_type": "markdown",
      "source": [
        "# **Conclusions**"
      ],
      "metadata": {
        "id": "Nc7Tputvm_tM"
      }
    },
    {
      "cell_type": "markdown",
      "source": [
        "Altogether, these analyses show the effectiveness of non-parametric models in prediction tasks both at the classification and at the survival analysis level."
      ],
      "metadata": {
        "id": "617AWu0NnAwg"
      }
    }
  ]
}